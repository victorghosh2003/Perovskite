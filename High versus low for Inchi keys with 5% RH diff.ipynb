{
 "cells": [
  {
   "cell_type": "code",
   "execution_count": null,
   "metadata": {},
   "outputs": [],
   "source": [
    "import pandas as pd\n",
    "import numpy as np\n",
    "import os\n",
    "import random as shuffle\n",
    "from random import shuffle\n",
    "from statsmodels.stats.weightstats import ttest_ind\n",
    "import statistics"
   ]
  },
  {
   "cell_type": "code",
   "execution_count": 2,
   "metadata": {},
   "outputs": [
    {
     "name": "stdout",
     "output_type": "stream",
     "text": [
      "                                          Date                         Name  Relative_Humidity  Crystal_Score   Only_Date\n",
      "0      2019-02-21T16_43_20.274786+00_00_LBL_A1  FCTHQYIDLRRROX-UHFFFAOYSA-N          18.326946              2  2019-02-21\n",
      "1      2019-02-21T16_43_20.274786+00_00_LBL_G1  FCTHQYIDLRRROX-UHFFFAOYSA-N          18.326946              4  2019-02-21\n",
      "2      2019-02-21T16_43_20.274786+00_00_LBL_B1  FCTHQYIDLRRROX-UHFFFAOYSA-N          18.326946              4  2019-02-21\n",
      "3      2019-02-21T16_43_20.274786+00_00_LBL_D1  FCTHQYIDLRRROX-UHFFFAOYSA-N          18.326946              1  2019-02-21\n",
      "4      2019-02-21T16_43_20.274786+00_00_LBL_F1  FCTHQYIDLRRROX-UHFFFAOYSA-N          18.326946              4  2019-02-21\n",
      "...                                        ...                          ...                ...            ...         ...\n",
      "8039  2019-06-27T12_52_20.503028+00_00_LBL_E12  QRFXELVDJSDWHX-UHFFFAOYSA-N          62.997802              1  2019-06-27\n",
      "8040  2019-06-27T12_52_20.503028+00_00_LBL_G12  QRFXELVDJSDWHX-UHFFFAOYSA-N          62.997802              3  2019-06-27\n",
      "8041  2019-06-27T12_52_20.503028+00_00_LBL_B12  QRFXELVDJSDWHX-UHFFFAOYSA-N          62.997802              2  2019-06-27\n",
      "8042  2019-06-27T12_52_20.503028+00_00_LBL_F12  QRFXELVDJSDWHX-UHFFFAOYSA-N          62.997802              3  2019-06-27\n",
      "8043  2019-06-27T12_52_20.503028+00_00_LBL_H12  QRFXELVDJSDWHX-UHFFFAOYSA-N          62.997802              3  2019-06-27\n",
      "\n",
      "[8044 rows x 5 columns]\n"
     ]
    }
   ],
   "source": [
    "df = pd.read_csv('0050.perovskitedata_DRPFeatures_2020-04-17 - 0050.perovskitedata_DRPFeatures_2020-04-17-2.csv')\n",
    "pd.set_option('display.max_rows',500) # lines 1,2,3 make sure that full output is shown\n",
    "pd.set_option('display.max_columns',500) # lines 1,2,3 make sure that full output is shown\n",
    "pd.set_option('display.width',1000) # lines 1,2,3 make sure that full output is shown\n",
    "print(df) # read in the csv file (.0050 perovskite_data)"
   ]
  },
  {
   "cell_type": "code",
   "execution_count": 3,
   "metadata": {
    "scrolled": true
   },
   "outputs": [
    {
     "name": "stdout",
     "output_type": "stream",
     "text": [
      "     Relative_Humidity  Crystal_Score                         Name  Total\n",
      "0            18.326946              1  FCTHQYIDLRRROX-UHFFFAOYSA-N     42\n",
      "1            18.326946              2  FCTHQYIDLRRROX-UHFFFAOYSA-N      3\n",
      "2            18.326946              4  FCTHQYIDLRRROX-UHFFFAOYSA-N     49\n",
      "3            20.037970              1  XFYICZOIWSBQSK-UHFFFAOYSA-N     48\n",
      "4            20.037970              2  XFYICZOIWSBQSK-UHFFFAOYSA-N      5\n",
      "5            20.037970              4  XFYICZOIWSBQSK-UHFFFAOYSA-N     18\n",
      "6            21.725510              1  DMFMZFFIQRMJQZ-UHFFFAOYSA-N     59\n",
      "7            21.725510              2  DMFMZFFIQRMJQZ-UHFFFAOYSA-N     22\n",
      "8            21.725510              3  DMFMZFFIQRMJQZ-UHFFFAOYSA-N     10\n",
      "9            21.725510              4  DMFMZFFIQRMJQZ-UHFFFAOYSA-N      5\n",
      "10           22.522656              1  JMXLWMIFDJCGBV-UHFFFAOYSA-N      5\n",
      "11           22.522656              1  UMDDLGMCNFAZDX-UHFFFAOYSA-O     60\n",
      "12           22.522656              2  JMXLWMIFDJCGBV-UHFFFAOYSA-N      3\n",
      "13           22.522656              2  UMDDLGMCNFAZDX-UHFFFAOYSA-O      5\n",
      "14           22.522656              3  JMXLWMIFDJCGBV-UHFFFAOYSA-N      1\n",
      "15           22.522656              3  UMDDLGMCNFAZDX-UHFFFAOYSA-O     10\n",
      "16           22.522656              4  JMXLWMIFDJCGBV-UHFFFAOYSA-N      6\n",
      "17           22.522656              4  UMDDLGMCNFAZDX-UHFFFAOYSA-O      6\n",
      "18           22.747115              1  XFYICZOIWSBQSK-UHFFFAOYSA-N     44\n",
      "19           22.747115              2  XFYICZOIWSBQSK-UHFFFAOYSA-N      1\n",
      "20           22.747115              3  XFYICZOIWSBQSK-UHFFFAOYSA-N      4\n",
      "21           22.747115              4  XFYICZOIWSBQSK-UHFFFAOYSA-N     16\n",
      "22           22.764800              1  DMFMZFFIQRMJQZ-UHFFFAOYSA-N     80\n",
      "23           22.764800              2  DMFMZFFIQRMJQZ-UHFFFAOYSA-N     15\n",
      "24           22.764800              3  DMFMZFFIQRMJQZ-UHFFFAOYSA-N      1\n",
      "25           23.520755              1  UPHCENSIMPJEIS-UHFFFAOYSA-N     15\n",
      "26           23.520755              2  UPHCENSIMPJEIS-UHFFFAOYSA-N     77\n",
      "27           23.520755              3  UPHCENSIMPJEIS-UHFFFAOYSA-N      4\n",
      "28           23.602128              1  XFYICZOIWSBQSK-UHFFFAOYSA-N     56\n",
      "29           23.602128              2  XFYICZOIWSBQSK-UHFFFAOYSA-N      4\n",
      "30           23.602128              3  XFYICZOIWSBQSK-UHFFFAOYSA-N      5\n",
      "31           23.602128              4  XFYICZOIWSBQSK-UHFFFAOYSA-N      7\n",
      "32           25.302655              1  XFYICZOIWSBQSK-UHFFFAOYSA-N     45\n",
      "33           25.302655              2  XFYICZOIWSBQSK-UHFFFAOYSA-N     10\n",
      "34           25.302655              3  XFYICZOIWSBQSK-UHFFFAOYSA-N      8\n",
      "35           25.302655              4  XFYICZOIWSBQSK-UHFFFAOYSA-N      9\n",
      "36           28.681053              1  BAMDIFIROXTEEM-UHFFFAOYSA-N     87\n",
      "37           28.681053              2  BAMDIFIROXTEEM-UHFFFAOYSA-N      7\n",
      "38           28.681053              4  BAMDIFIROXTEEM-UHFFFAOYSA-N      2\n",
      "39           29.273810              1  DMFMZFFIQRMJQZ-UHFFFAOYSA-N     20\n",
      "40           29.273810              2  DMFMZFFIQRMJQZ-UHFFFAOYSA-N     62\n",
      "41           29.273810              4  DMFMZFFIQRMJQZ-UHFFFAOYSA-N     12\n",
      "42           30.631579              1  XFYICZOIWSBQSK-UHFFFAOYSA-N     33\n",
      "43           30.631579              2  XFYICZOIWSBQSK-UHFFFAOYSA-N      1\n",
      "44           30.631579              3  XFYICZOIWSBQSK-UHFFFAOYSA-N      8\n",
      "45           30.631579              4  XFYICZOIWSBQSK-UHFFFAOYSA-N      6\n",
      "46           31.318671              1  JMXLWMIFDJCGBV-UHFFFAOYSA-N      4\n",
      "47           31.318671              2  JMXLWMIFDJCGBV-UHFFFAOYSA-N      8\n",
      "48           31.318671              3  JMXLWMIFDJCGBV-UHFFFAOYSA-N     56\n",
      "49           31.318671              4  JMXLWMIFDJCGBV-UHFFFAOYSA-N     26\n",
      "50           33.430435              1  LYHPZBKXSHVBDW-UHFFFAOYSA-N     15\n",
      "51           33.430435              2  LYHPZBKXSHVBDW-UHFFFAOYSA-N     68\n",
      "52           33.430435              3  LYHPZBKXSHVBDW-UHFFFAOYSA-N     12\n",
      "53           36.334154              1  RYYSZNVPBLKLRS-UHFFFAOYSA-N     62\n",
      "54           36.334154              2  RYYSZNVPBLKLRS-UHFFFAOYSA-N     34\n",
      "55           37.202789              1  VMLAEGAAHIIWJX-UHFFFAOYSA-N     85\n",
      "56           37.202789              2  VMLAEGAAHIIWJX-UHFFFAOYSA-N      5\n",
      "57           37.202789              4  VMLAEGAAHIIWJX-UHFFFAOYSA-N      6\n",
      "58           37.830682              1  JERSPYRKVMAEJY-UHFFFAOYSA-N     40\n",
      "59           37.830682              2  JERSPYRKVMAEJY-UHFFFAOYSA-N      7\n",
      "60           37.830682              3  JERSPYRKVMAEJY-UHFFFAOYSA-N     33\n",
      "61           37.830682              4  JERSPYRKVMAEJY-UHFFFAOYSA-N     16\n",
      "62           37.995868              1  FCTHQYIDLRRROX-UHFFFAOYSA-N     40\n",
      "63           37.995868              2  FCTHQYIDLRRROX-UHFFFAOYSA-N      2\n",
      "64           37.995868              4  FCTHQYIDLRRROX-UHFFFAOYSA-N     54\n",
      "65           38.262463              1  CALQKRVFTWDYDG-UHFFFAOYSA-N     58\n",
      "66           38.262463              2  CALQKRVFTWDYDG-UHFFFAOYSA-N      6\n",
      "67           38.262463              3  CALQKRVFTWDYDG-UHFFFAOYSA-N     23\n",
      "68           38.262463              4  CALQKRVFTWDYDG-UHFFFAOYSA-N      9\n",
      "69           38.952402              1  PPCHYMCMRUGLHR-UHFFFAOYSA-N     21\n",
      "70           38.952402              2  PPCHYMCMRUGLHR-UHFFFAOYSA-N      1\n",
      "71           39.001227              1  XFYICZOIWSBQSK-UHFFFAOYSA-N     46\n",
      "72           39.001227              2  XFYICZOIWSBQSK-UHFFFAOYSA-N      4\n",
      "73           39.001227              3  XFYICZOIWSBQSK-UHFFFAOYSA-N      7\n",
      "74           39.001227              4  XFYICZOIWSBQSK-UHFFFAOYSA-N      3\n",
      "75           39.683513              1  XFYICZOIWSBQSK-UHFFFAOYSA-N     61\n",
      "76           39.683513              2  XFYICZOIWSBQSK-UHFFFAOYSA-N      8\n",
      "77           39.683513              3  XFYICZOIWSBQSK-UHFFFAOYSA-N      3\n",
      "78           40.778261              1  QRFXELVDJSDWHX-UHFFFAOYSA-N     42\n",
      "79           40.778261              2  QRFXELVDJSDWHX-UHFFFAOYSA-N     40\n",
      "80           40.778261              4  QRFXELVDJSDWHX-UHFFFAOYSA-N     12\n",
      "81           40.800000              1  XFYICZOIWSBQSK-UHFFFAOYSA-N     54\n",
      "82           40.800000              2  XFYICZOIWSBQSK-UHFFFAOYSA-N     10\n",
      "83           40.800000              3  XFYICZOIWSBQSK-UHFFFAOYSA-N      7\n",
      "84           41.974144              1  XFYICZOIWSBQSK-UHFFFAOYSA-N     49\n",
      "85           41.974144              2  XFYICZOIWSBQSK-UHFFFAOYSA-N      9\n",
      "86           41.974144              3  XFYICZOIWSBQSK-UHFFFAOYSA-N     19\n",
      "87           41.974144              4  XFYICZOIWSBQSK-UHFFFAOYSA-N     19\n",
      "88           43.135398              1  XFYICZOIWSBQSK-UHFFFAOYSA-N     36\n",
      "89           43.135398              2  XFYICZOIWSBQSK-UHFFFAOYSA-N      2\n",
      "90           43.135398              3  XFYICZOIWSBQSK-UHFFFAOYSA-N      6\n",
      "91           43.135398              4  XFYICZOIWSBQSK-UHFFFAOYSA-N      4\n",
      "92           43.864706              1  FCTHQYIDLRRROX-UHFFFAOYSA-N      3\n",
      "93           43.864706              1  GGYGJCFIYJVWIP-UHFFFAOYSA-N     22\n",
      "94           43.864706              2  GGYGJCFIYJVWIP-UHFFFAOYSA-N     10\n",
      "95           43.864706              4  FCTHQYIDLRRROX-UHFFFAOYSA-N     37\n",
      "96           43.864706              4  GGYGJCFIYJVWIP-UHFFFAOYSA-N      8\n",
      "97           43.868378              1  QZCGFUVVXNFSLE-UHFFFAOYSA-N     96\n",
      "98           44.224427              1  GGYGJCFIYJVWIP-UHFFFAOYSA-N     18\n",
      "99           44.224427              2  GGYGJCFIYJVWIP-UHFFFAOYSA-N     24\n",
      "100          44.224427              3  GGYGJCFIYJVWIP-UHFFFAOYSA-N     21\n",
      "101          44.224427              4  GGYGJCFIYJVWIP-UHFFFAOYSA-N     26\n",
      "102          44.238785              1  VMLAEGAAHIIWJX-UHFFFAOYSA-N     16\n",
      "103          44.238785              2  VMLAEGAAHIIWJX-UHFFFAOYSA-N      1\n",
      "104          44.238785              3  VMLAEGAAHIIWJX-UHFFFAOYSA-N      1\n",
      "105          44.238785              4  VMLAEGAAHIIWJX-UHFFFAOYSA-N      4\n",
      "106          44.575243              1  IWNWLPUNKAYUAW-UHFFFAOYSA-N      7\n",
      "107          44.575243              2  IWNWLPUNKAYUAW-UHFFFAOYSA-N      3\n",
      "108          44.575243              4  IWNWLPUNKAYUAW-UHFFFAOYSA-N     28\n",
      "109          44.888950              1  GGYGJCFIYJVWIP-UHFFFAOYSA-N     19\n",
      "110          44.888950              1  PPCHYMCMRUGLHR-UHFFFAOYSA-N     41\n",
      "111          44.888950              2  GGYGJCFIYJVWIP-UHFFFAOYSA-N      1\n",
      "112          44.888950              3  GGYGJCFIYJVWIP-UHFFFAOYSA-N      6\n",
      "113          44.888950              4  GGYGJCFIYJVWIP-UHFFFAOYSA-N     11\n",
      "114          45.112360              1  XFYICZOIWSBQSK-UHFFFAOYSA-N     41\n",
      "115          45.112360              2  XFYICZOIWSBQSK-UHFFFAOYSA-N     41\n",
      "116          45.112360              3  XFYICZOIWSBQSK-UHFFFAOYSA-N      3\n",
      "117          45.112360              4  XFYICZOIWSBQSK-UHFFFAOYSA-N     11\n",
      "118          45.435844              2  JBOIAZWJIACNJF-UHFFFAOYSA-N     40\n",
      "119          45.435844              3  JBOIAZWJIACNJF-UHFFFAOYSA-N     30\n",
      "120          45.435844              4  JBOIAZWJIACNJF-UHFFFAOYSA-N     26\n",
      "121          45.621493              1  NXRUEVJQMBGVAT-UHFFFAOYSA-N     78\n",
      "122          45.621493              2  NXRUEVJQMBGVAT-UHFFFAOYSA-N     11\n",
      "123          45.621493              3  NXRUEVJQMBGVAT-UHFFFAOYSA-N      2\n",
      "124          45.621493              4  NXRUEVJQMBGVAT-UHFFFAOYSA-N      5\n",
      "125          45.973543              1  PXWSKGXEHZHFJA-UHFFFAOYSA-N     30\n",
      "126          45.973543              2  PXWSKGXEHZHFJA-UHFFFAOYSA-N     63\n",
      "127          45.973543              3  PXWSKGXEHZHFJA-UHFFFAOYSA-N      1\n",
      "128          46.600474              1  XFYICZOIWSBQSK-UHFFFAOYSA-N     44\n",
      "129          46.600474              2  XFYICZOIWSBQSK-UHFFFAOYSA-N      8\n",
      "130          46.600474              3  XFYICZOIWSBQSK-UHFFFAOYSA-N     20\n",
      "131          46.600474              4  XFYICZOIWSBQSK-UHFFFAOYSA-N     24\n",
      "132          46.602920              1  SQXJHWOXNLTOOO-UHFFFAOYSA-N      9\n",
      "133          46.602920              2  SQXJHWOXNLTOOO-UHFFFAOYSA-N     87\n",
      "134          47.500803              1  CQWGDVVCKBJLNX-UHFFFAOYSA-N      6\n",
      "135          47.500803              2  CQWGDVVCKBJLNX-UHFFFAOYSA-N      8\n",
      "136          47.500803              3  CQWGDVVCKBJLNX-UHFFFAOYSA-N      2\n",
      "137          47.500803              4  CQWGDVVCKBJLNX-UHFFFAOYSA-N      6\n",
      "138          47.886486              1  XFYICZOIWSBQSK-UHFFFAOYSA-N     57\n",
      "139          47.886486              2  XFYICZOIWSBQSK-UHFFFAOYSA-N     23\n",
      "140          47.886486              3  XFYICZOIWSBQSK-UHFFFAOYSA-N      6\n",
      "141          47.886486              4  XFYICZOIWSBQSK-UHFFFAOYSA-N      7\n",
      "142          48.129655              1  QHJPGANWSLEMTI-UHFFFAOYSA-N      7\n",
      "143          48.129655              2  QHJPGANWSLEMTI-UHFFFAOYSA-N     19\n",
      "144          48.129655              3  QHJPGANWSLEMTI-UHFFFAOYSA-N     22\n",
      "145          48.129655              4  QHJPGANWSLEMTI-UHFFFAOYSA-N     48\n",
      "146          48.220721              1  UVLZLKCGKYLKOR-UHFFFAOYSA-N     86\n",
      "147          48.220721              2  UVLZLKCGKYLKOR-UHFFFAOYSA-N      4\n",
      "148          48.220721              3  UVLZLKCGKYLKOR-UHFFFAOYSA-N      6\n",
      "149          48.721311              1  XFYICZOIWSBQSK-UHFFFAOYSA-N     39\n",
      "150          48.721311              2  XFYICZOIWSBQSK-UHFFFAOYSA-N     37\n",
      "151          48.721311              3  XFYICZOIWSBQSK-UHFFFAOYSA-N     10\n",
      "152          48.721311              4  XFYICZOIWSBQSK-UHFFFAOYSA-N     10\n",
      "153          49.215385              1  XFYICZOIWSBQSK-UHFFFAOYSA-N     45\n",
      "154          49.215385              2  XFYICZOIWSBQSK-UHFFFAOYSA-N     16\n",
      "155          49.215385              3  XFYICZOIWSBQSK-UHFFFAOYSA-N     15\n",
      "156          49.215385              4  XFYICZOIWSBQSK-UHFFFAOYSA-N     20\n",
      "157          49.308491              1  ZEVRFFCPALTVDN-UHFFFAOYSA-N     31\n",
      "158          49.308491              2  ZEVRFFCPALTVDN-UHFFFAOYSA-N      6\n",
      "159          49.308491              4  ZEVRFFCPALTVDN-UHFFFAOYSA-N     59\n",
      "160          49.593818              1  QNNYEDWTOZODAS-UHFFFAOYSA-N     86\n",
      "161          49.593818              2  QNNYEDWTOZODAS-UHFFFAOYSA-N      9\n",
      "162          49.648318              1  PBGZCCFVBVEIAS-UHFFFAOYSA-N     67\n",
      "163          49.648318              2  PBGZCCFVBVEIAS-UHFFFAOYSA-N     28\n",
      "164          49.894334              1  UUDRLGYROXTISK-UHFFFAOYSA-N     27\n",
      "165          49.894334              2  UUDRLGYROXTISK-UHFFFAOYSA-N     28\n",
      "166          49.894334              3  UUDRLGYROXTISK-UHFFFAOYSA-N     15\n",
      "167          49.894334              4  UUDRLGYROXTISK-UHFFFAOYSA-N     26\n",
      "168          50.185271              1  CALQKRVFTWDYDG-UHFFFAOYSA-N     40\n",
      "169          50.185271              1  FCTHQYIDLRRROX-UHFFFAOYSA-N     33\n",
      "170          50.185271              2  CALQKRVFTWDYDG-UHFFFAOYSA-N      1\n",
      "171          50.185271              4  CALQKRVFTWDYDG-UHFFFAOYSA-N      5\n",
      "172          50.185271              4  FCTHQYIDLRRROX-UHFFFAOYSA-N     17\n",
      "173          50.232063              1  XFYICZOIWSBQSK-UHFFFAOYSA-N     33\n",
      "174          50.232063              3  XFYICZOIWSBQSK-UHFFFAOYSA-N      4\n",
      "175          50.232063              4  XFYICZOIWSBQSK-UHFFFAOYSA-N     11\n",
      "176          51.506061              1  QHJPGANWSLEMTI-UHFFFAOYSA-N      4\n",
      "177          51.506061              2  QHJPGANWSLEMTI-UHFFFAOYSA-N     22\n",
      "178          51.506061              3  QHJPGANWSLEMTI-UHFFFAOYSA-N     34\n",
      "179          51.506061              4  QHJPGANWSLEMTI-UHFFFAOYSA-N     36\n",
      "180          51.781532              1  UUDRLGYROXTISK-UHFFFAOYSA-N     63\n",
      "181          51.781532              2  UUDRLGYROXTISK-UHFFFAOYSA-N     22\n",
      "182          51.781532              3  UUDRLGYROXTISK-UHFFFAOYSA-N      5\n",
      "183          51.781532              4  UUDRLGYROXTISK-UHFFFAOYSA-N      6\n",
      "184          51.802857              1  PBGZCCFVBVEIAS-UHFFFAOYSA-N     27\n",
      "185          51.802857              2  PBGZCCFVBVEIAS-UHFFFAOYSA-N     69\n",
      "186          52.246091              1  LLWRXQXPJMPHLR-UHFFFAOYSA-N      8\n",
      "187          52.246091              2  LLWRXQXPJMPHLR-UHFFFAOYSA-N      5\n",
      "188          52.246091              3  LLWRXQXPJMPHLR-UHFFFAOYSA-N     17\n",
      "189          52.246091              4  LLWRXQXPJMPHLR-UHFFFAOYSA-N     66\n",
      "190          52.596273              1  DMFMZFFIQRMJQZ-UHFFFAOYSA-N     43\n",
      "191          52.596273              2  DMFMZFFIQRMJQZ-UHFFFAOYSA-N     15\n",
      "192          52.596273              3  DMFMZFFIQRMJQZ-UHFFFAOYSA-N      3\n",
      "193          52.596273              4  DMFMZFFIQRMJQZ-UHFFFAOYSA-N     32\n",
      "194          53.253425              1  HBPSMMXRESDUSG-UHFFFAOYSA-N     37\n",
      "195          53.253425              2  HBPSMMXRESDUSG-UHFFFAOYSA-N     39\n",
      "196          53.253425              3  HBPSMMXRESDUSG-UHFFFAOYSA-N     14\n",
      "197          53.253425              4  HBPSMMXRESDUSG-UHFFFAOYSA-N      6\n",
      "198          53.914231              1  UUDRLGYROXTISK-UHFFFAOYSA-N     55\n",
      "199          53.914231              2  UUDRLGYROXTISK-UHFFFAOYSA-N     20\n",
      "200          53.914231              3  UUDRLGYROXTISK-UHFFFAOYSA-N      7\n",
      "201          53.914231              4  UUDRLGYROXTISK-UHFFFAOYSA-N     14\n",
      "202          54.074510              1  GGYGJCFIYJVWIP-UHFFFAOYSA-N      1\n",
      "203          54.074510              2  GGYGJCFIYJVWIP-UHFFFAOYSA-N     55\n",
      "204          54.074510              3  GGYGJCFIYJVWIP-UHFFFAOYSA-N     18\n",
      "205          54.074510              4  GGYGJCFIYJVWIP-UHFFFAOYSA-N     22\n",
      "206          54.153488              1  UMDDLGMCNFAZDX-UHFFFAOYSA-O     39\n",
      "207          54.153488              2  UMDDLGMCNFAZDX-UHFFFAOYSA-O      1\n",
      "208          54.153488              4  UMDDLGMCNFAZDX-UHFFFAOYSA-O     54\n",
      "209          54.160440              1  XFYICZOIWSBQSK-UHFFFAOYSA-N     34\n",
      "210          54.160440              2  XFYICZOIWSBQSK-UHFFFAOYSA-N      3\n",
      "211          54.160440              4  XFYICZOIWSBQSK-UHFFFAOYSA-N     35\n",
      "212          54.302381              1  LCTUISCIGMWMAT-UHFFFAOYSA-N     71\n",
      "213          54.302381              2  LCTUISCIGMWMAT-UHFFFAOYSA-N      2\n",
      "214          54.302381              3  LCTUISCIGMWMAT-UHFFFAOYSA-N      5\n",
      "215          54.302381              4  LCTUISCIGMWMAT-UHFFFAOYSA-N     18\n",
      "216          54.603934              1  WGYRINYTHSORGH-UHFFFAOYSA-N     74\n",
      "217          54.603934              2  WGYRINYTHSORGH-UHFFFAOYSA-N      1\n",
      "218          54.603934              3  WGYRINYTHSORGH-UHFFFAOYSA-N     11\n",
      "219          54.603934              4  WGYRINYTHSORGH-UHFFFAOYSA-N     10\n",
      "220          54.705806              1  PPCHYMCMRUGLHR-UHFFFAOYSA-N     10\n",
      "221          54.705806              3  PPCHYMCMRUGLHR-UHFFFAOYSA-N      2\n",
      "222          54.749741              1  GGYGJCFIYJVWIP-UHFFFAOYSA-N      8\n",
      "223          54.749741              1  NOHLSFNWSBZSBW-UHFFFAOYSA-N     14\n",
      "224          54.749741              2  GGYGJCFIYJVWIP-UHFFFAOYSA-N      6\n",
      "225          54.749741              2  NOHLSFNWSBZSBW-UHFFFAOYSA-N     18\n",
      "226          54.749741              3  GGYGJCFIYJVWIP-UHFFFAOYSA-N     11\n",
      "227          54.749741              4  GGYGJCFIYJVWIP-UHFFFAOYSA-N     22\n",
      "228          54.749741              4  NOHLSFNWSBZSBW-UHFFFAOYSA-N     15\n",
      "229          55.298762              1  XFYICZOIWSBQSK-UHFFFAOYSA-N     38\n",
      "230          55.298762              2  XFYICZOIWSBQSK-UHFFFAOYSA-N     32\n",
      "231          55.298762              3  XFYICZOIWSBQSK-UHFFFAOYSA-N     10\n",
      "232          55.298762              4  XFYICZOIWSBQSK-UHFFFAOYSA-N     16\n",
      "233          55.314861              1  XZUCBFLUEBDNSJ-UHFFFAOYSA-N     54\n",
      "234          55.314861              2  XZUCBFLUEBDNSJ-UHFFFAOYSA-N     37\n",
      "235          55.314861              3  XZUCBFLUEBDNSJ-UHFFFAOYSA-N      4\n",
      "236          55.314861              4  XZUCBFLUEBDNSJ-UHFFFAOYSA-N      1\n",
      "237          55.744792              1  LLWRXQXPJMPHLR-UHFFFAOYSA-N     17\n",
      "238          55.744792              2  LLWRXQXPJMPHLR-UHFFFAOYSA-N      4\n",
      "239          55.744792              3  LLWRXQXPJMPHLR-UHFFFAOYSA-N      7\n",
      "240          55.744792              4  LLWRXQXPJMPHLR-UHFFFAOYSA-N      4\n",
      "241          55.853793              1  UUDRLGYROXTISK-UHFFFAOYSA-N     16\n",
      "242          55.853793              2  UUDRLGYROXTISK-UHFFFAOYSA-N     26\n",
      "243          55.853793              3  UUDRLGYROXTISK-UHFFFAOYSA-N     11\n",
      "244          55.853793              4  UUDRLGYROXTISK-UHFFFAOYSA-N     43\n",
      "245          56.053286              1  GGYGJCFIYJVWIP-UHFFFAOYSA-N     27\n",
      "246          56.053286              1  XFYICZOIWSBQSK-UHFFFAOYSA-N      2\n",
      "247          56.053286              3  GGYGJCFIYJVWIP-UHFFFAOYSA-N     11\n",
      "248          56.053286              3  XFYICZOIWSBQSK-UHFFFAOYSA-N      3\n",
      "249          56.053286              4  GGYGJCFIYJVWIP-UHFFFAOYSA-N     38\n",
      "250          56.053286              4  XFYICZOIWSBQSK-UHFFFAOYSA-N     11\n",
      "251          56.132500              1  XFYICZOIWSBQSK-UHFFFAOYSA-N     49\n",
      "252          56.132500              2  XFYICZOIWSBQSK-UHFFFAOYSA-N      9\n",
      "253          56.132500              3  XFYICZOIWSBQSK-UHFFFAOYSA-N      6\n",
      "254          56.132500              4  XFYICZOIWSBQSK-UHFFFAOYSA-N      8\n",
      "255          56.231496              1  BJDYCCHRZIFCGN-UHFFFAOYSA-N     66\n",
      "256          56.231496              2  BJDYCCHRZIFCGN-UHFFFAOYSA-N     18\n",
      "257          56.231496              3  BJDYCCHRZIFCGN-UHFFFAOYSA-N     12\n",
      "258          56.292808              1  KOAGKPNEVYEZDU-UHFFFAOYSA-N     20\n",
      "259          56.292808              2  KOAGKPNEVYEZDU-UHFFFAOYSA-N     22\n",
      "260          56.292808              3  KOAGKPNEVYEZDU-UHFFFAOYSA-N     43\n",
      "261          56.292808              4  KOAGKPNEVYEZDU-UHFFFAOYSA-N      9\n",
      "262          57.023810              1  GIAPQOZCVIEHNY-UHFFFAOYSA-N     88\n",
      "263          57.023810              1  UZHWWTHDRVLCJU-UHFFFAOYSA-N     80\n",
      "264          57.023810              2  GIAPQOZCVIEHNY-UHFFFAOYSA-N      5\n",
      "265          57.023810              2  UZHWWTHDRVLCJU-UHFFFAOYSA-N      5\n",
      "266          57.023810              3  GIAPQOZCVIEHNY-UHFFFAOYSA-N      1\n",
      "267          57.023810              3  UZHWWTHDRVLCJU-UHFFFAOYSA-N      9\n",
      "268          57.051064              2  GGYGJCFIYJVWIP-UHFFFAOYSA-N     44\n",
      "269          57.051064              3  GGYGJCFIYJVWIP-UHFFFAOYSA-N     25\n",
      "270          57.051064              4  GGYGJCFIYJVWIP-UHFFFAOYSA-N     27\n",
      "271          57.247603              1  JMXLWMIFDJCGBV-UHFFFAOYSA-N     47\n",
      "272          57.247603              2  JMXLWMIFDJCGBV-UHFFFAOYSA-N     12\n",
      "273          57.247603              3  JMXLWMIFDJCGBV-UHFFFAOYSA-N      7\n",
      "274          57.247603              4  JMXLWMIFDJCGBV-UHFFFAOYSA-N     30\n",
      "275          58.319149              1  NOHLSFNWSBZSBW-UHFFFAOYSA-N     19\n",
      "276          58.319149              2  NOHLSFNWSBZSBW-UHFFFAOYSA-N     48\n",
      "277          58.319149              3  NOHLSFNWSBZSBW-UHFFFAOYSA-N     13\n",
      "278          58.319149              4  NOHLSFNWSBZSBW-UHFFFAOYSA-N     14\n",
      "279          58.439000              1  GGYGJCFIYJVWIP-UHFFFAOYSA-N     21\n",
      "280          58.439000              1  PXWSKGXEHZHFJA-UHFFFAOYSA-N      6\n",
      "281          58.439000              2  GGYGJCFIYJVWIP-UHFFFAOYSA-N      4\n",
      "282          58.439000              2  PXWSKGXEHZHFJA-UHFFFAOYSA-N     41\n",
      "283          58.439000              3  GGYGJCFIYJVWIP-UHFFFAOYSA-N      3\n",
      "284          58.439000              3  PXWSKGXEHZHFJA-UHFFFAOYSA-N      1\n",
      "285          58.439000              4  GGYGJCFIYJVWIP-UHFFFAOYSA-N     14\n",
      "286          59.160577              1  CQWGDVVCKBJLNX-UHFFFAOYSA-N     57\n",
      "287          59.160577              2  CQWGDVVCKBJLNX-UHFFFAOYSA-N     39\n",
      "288          59.510390              1  VAWHFUNJDMQUSB-UHFFFAOYSA-N     55\n",
      "289          59.510390              2  VAWHFUNJDMQUSB-UHFFFAOYSA-N     25\n",
      "290          59.510390              3  VAWHFUNJDMQUSB-UHFFFAOYSA-N      5\n",
      "291          59.510390              4  VAWHFUNJDMQUSB-UHFFFAOYSA-N     11\n",
      "292          59.676014              1  FJFIJIDZQADKEE-UHFFFAOYSA-N     42\n",
      "293          59.676014              3  FJFIJIDZQADKEE-UHFFFAOYSA-N     34\n",
      "294          59.676014              4  FJFIJIDZQADKEE-UHFFFAOYSA-N     17\n",
      "295          59.808333              1  VNAAUNTYIONOHR-UHFFFAOYSA-N     68\n",
      "296          59.808333              2  VNAAUNTYIONOHR-UHFFFAOYSA-N     19\n",
      "297          59.808333              4  VNAAUNTYIONOHR-UHFFFAOYSA-N      9\n",
      "298          60.107931              1  NLJDBTZLVTWXRG-UHFFFAOYSA-N     73\n",
      "299          60.107931              2  NLJDBTZLVTWXRG-UHFFFAOYSA-N      4\n",
      "300          60.107931              4  NLJDBTZLVTWXRG-UHFFFAOYSA-N     19\n",
      "301          60.401389              1  CQWGDVVCKBJLNX-UHFFFAOYSA-N     28\n",
      "302          60.401389              1  GGYGJCFIYJVWIP-UHFFFAOYSA-N     20\n",
      "303          60.401389              2  CQWGDVVCKBJLNX-UHFFFAOYSA-N      4\n",
      "304          60.401389              3  CQWGDVVCKBJLNX-UHFFFAOYSA-N      1\n",
      "305          60.401389              4  CQWGDVVCKBJLNX-UHFFFAOYSA-N     14\n",
      "306          60.401389              4  GGYGJCFIYJVWIP-UHFFFAOYSA-N     26\n",
      "307          60.529225              1  YYMLRIWBISZOMT-UHFFFAOYSA-N     85\n",
      "308          60.529225              2  YYMLRIWBISZOMT-UHFFFAOYSA-N     10\n",
      "309          60.614694              1  UXYJHTKQEFCXBJ-UHFFFAOYSA-N     51\n",
      "310          60.614694              2  UXYJHTKQEFCXBJ-UHFFFAOYSA-N     40\n",
      "311          60.614694              3  UXYJHTKQEFCXBJ-UHFFFAOYSA-N      2\n",
      "312          60.829249              1  KFQARYBEAKAXIC-UHFFFAOYSA-N     62\n",
      "313          60.829249              2  KFQARYBEAKAXIC-UHFFFAOYSA-N      2\n",
      "314          60.829249              3  KFQARYBEAKAXIC-UHFFFAOYSA-N      3\n",
      "315          60.829249              4  KFQARYBEAKAXIC-UHFFFAOYSA-N     29\n",
      "316          60.847687              1  HBZSVMFYMAOGRS-UHFFFAOYSA-N     85\n",
      "317          60.847687              2  HBZSVMFYMAOGRS-UHFFFAOYSA-N      6\n",
      "318          60.847687              3  HBZSVMFYMAOGRS-UHFFFAOYSA-N      4\n",
      "319          60.892079              1  XFYICZOIWSBQSK-UHFFFAOYSA-N     61\n",
      "320          60.892079              2  XFYICZOIWSBQSK-UHFFFAOYSA-N      6\n",
      "321          60.892079              3  XFYICZOIWSBQSK-UHFFFAOYSA-N      4\n",
      "322          60.892079              4  XFYICZOIWSBQSK-UHFFFAOYSA-N     22\n",
      "323          61.071130              1  GGYGJCFIYJVWIP-UHFFFAOYSA-N      2\n",
      "324          61.071130              1  GIAPQOZCVIEHNY-UHFFFAOYSA-N     29\n",
      "325          61.071130              3  GGYGJCFIYJVWIP-UHFFFAOYSA-N     31\n",
      "326          61.071130              3  GIAPQOZCVIEHNY-UHFFFAOYSA-N      8\n",
      "327          61.071130              4  GGYGJCFIYJVWIP-UHFFFAOYSA-N     14\n",
      "328          61.207818              1  VMLAEGAAHIIWJX-UHFFFAOYSA-N     35\n",
      "329          61.207818              3  VMLAEGAAHIIWJX-UHFFFAOYSA-N      9\n",
      "330          61.207818              4  VMLAEGAAHIIWJX-UHFFFAOYSA-N      3\n",
      "331          61.875143              1  SQXJHWOXNLTOOO-UHFFFAOYSA-N     70\n",
      "332          61.875143              2  SQXJHWOXNLTOOO-UHFFFAOYSA-N     21\n",
      "333          61.875143              3  SQXJHWOXNLTOOO-UHFFFAOYSA-N      3\n",
      "334          62.997802              1  GGYGJCFIYJVWIP-UHFFFAOYSA-N      3\n",
      "335          62.997802              1  JMXLWMIFDJCGBV-UHFFFAOYSA-N     36\n",
      "336          62.997802              1  QRFXELVDJSDWHX-UHFFFAOYSA-N      3\n",
      "337          62.997802              2  GGYGJCFIYJVWIP-UHFFFAOYSA-N      4\n",
      "338          62.997802              2  QRFXELVDJSDWHX-UHFFFAOYSA-N      5\n",
      "339          62.997802              3  GGYGJCFIYJVWIP-UHFFFAOYSA-N     24\n",
      "340          62.997802              3  JMXLWMIFDJCGBV-UHFFFAOYSA-N     44\n",
      "341          62.997802              3  QRFXELVDJSDWHX-UHFFFAOYSA-N     37\n",
      "342          62.997802              4  GGYGJCFIYJVWIP-UHFFFAOYSA-N      9\n",
      "343          62.997802              4  JMXLWMIFDJCGBV-UHFFFAOYSA-N     15\n"
     ]
    }
   ],
   "source": [
    "grpd = df.groupby(['Relative_Humidity','Crystal_Score','Name']).size().to_frame('Total').reset_index() # it is the best version, spits out 3 neat columns: position, crystal score, and the total\n",
    "print(grpd) # to get categories of RH, Name, and Total and nicely split it"
   ]
  },
  {
   "cell_type": "code",
   "execution_count": 12,
   "metadata": {
    "scrolled": true
   },
   "outputs": [
    {
     "data": {
      "text/html": [
       "<div>\n",
       "<style scoped>\n",
       "    .dataframe tbody tr th:only-of-type {\n",
       "        vertical-align: middle;\n",
       "    }\n",
       "\n",
       "    .dataframe tbody tr th {\n",
       "        vertical-align: top;\n",
       "    }\n",
       "\n",
       "    .dataframe thead th {\n",
       "        text-align: right;\n",
       "    }\n",
       "</style>\n",
       "<table border=\"1\" class=\"dataframe\">\n",
       "  <thead>\n",
       "    <tr style=\"text-align: right;\">\n",
       "      <th></th>\n",
       "      <th>Relative_Humidity</th>\n",
       "      <th>Crystal_Score</th>\n",
       "      <th>Name</th>\n",
       "      <th>Total</th>\n",
       "    </tr>\n",
       "  </thead>\n",
       "  <tbody>\n",
       "    <tr>\n",
       "      <th>100</th>\n",
       "      <td>44.224427</td>\n",
       "      <td>3</td>\n",
       "      <td>GGYGJCFIYJVWIP-UHFFFAOYSA-N</td>\n",
       "      <td>21</td>\n",
       "    </tr>\n",
       "    <tr>\n",
       "      <th>112</th>\n",
       "      <td>44.888950</td>\n",
       "      <td>3</td>\n",
       "      <td>GGYGJCFIYJVWIP-UHFFFAOYSA-N</td>\n",
       "      <td>6</td>\n",
       "    </tr>\n",
       "    <tr>\n",
       "      <th>204</th>\n",
       "      <td>54.074510</td>\n",
       "      <td>3</td>\n",
       "      <td>GGYGJCFIYJVWIP-UHFFFAOYSA-N</td>\n",
       "      <td>18</td>\n",
       "    </tr>\n",
       "    <tr>\n",
       "      <th>226</th>\n",
       "      <td>54.749741</td>\n",
       "      <td>3</td>\n",
       "      <td>GGYGJCFIYJVWIP-UHFFFAOYSA-N</td>\n",
       "      <td>11</td>\n",
       "    </tr>\n",
       "    <tr>\n",
       "      <th>247</th>\n",
       "      <td>56.053286</td>\n",
       "      <td>3</td>\n",
       "      <td>GGYGJCFIYJVWIP-UHFFFAOYSA-N</td>\n",
       "      <td>11</td>\n",
       "    </tr>\n",
       "    <tr>\n",
       "      <th>269</th>\n",
       "      <td>57.051064</td>\n",
       "      <td>3</td>\n",
       "      <td>GGYGJCFIYJVWIP-UHFFFAOYSA-N</td>\n",
       "      <td>25</td>\n",
       "    </tr>\n",
       "    <tr>\n",
       "      <th>283</th>\n",
       "      <td>58.439000</td>\n",
       "      <td>3</td>\n",
       "      <td>GGYGJCFIYJVWIP-UHFFFAOYSA-N</td>\n",
       "      <td>3</td>\n",
       "    </tr>\n",
       "    <tr>\n",
       "      <th>325</th>\n",
       "      <td>61.071130</td>\n",
       "      <td>3</td>\n",
       "      <td>GGYGJCFIYJVWIP-UHFFFAOYSA-N</td>\n",
       "      <td>31</td>\n",
       "    </tr>\n",
       "    <tr>\n",
       "      <th>339</th>\n",
       "      <td>62.997802</td>\n",
       "      <td>3</td>\n",
       "      <td>GGYGJCFIYJVWIP-UHFFFAOYSA-N</td>\n",
       "      <td>24</td>\n",
       "    </tr>\n",
       "  </tbody>\n",
       "</table>\n",
       "</div>"
      ],
      "text/plain": [
       "     Relative_Humidity  Crystal_Score                         Name  Total\n",
       "100          44.224427              3  GGYGJCFIYJVWIP-UHFFFAOYSA-N     21\n",
       "112          44.888950              3  GGYGJCFIYJVWIP-UHFFFAOYSA-N      6\n",
       "204          54.074510              3  GGYGJCFIYJVWIP-UHFFFAOYSA-N     18\n",
       "226          54.749741              3  GGYGJCFIYJVWIP-UHFFFAOYSA-N     11\n",
       "247          56.053286              3  GGYGJCFIYJVWIP-UHFFFAOYSA-N     11\n",
       "269          57.051064              3  GGYGJCFIYJVWIP-UHFFFAOYSA-N     25\n",
       "283          58.439000              3  GGYGJCFIYJVWIP-UHFFFAOYSA-N      3\n",
       "325          61.071130              3  GGYGJCFIYJVWIP-UHFFFAOYSA-N     31\n",
       "339          62.997802              3  GGYGJCFIYJVWIP-UHFFFAOYSA-N     24"
      ]
     },
     "execution_count": 12,
     "metadata": {},
     "output_type": "execute_result"
    }
   ],
   "source": [
    "array = ['GGYGJCFIYJVWIP-UHFFFAOYSA-N']\n",
    "H = grpd.loc[(grpd['Crystal_Score'] == 3) & grpd['Name'].isin(array)]\n",
    "F = H.Total\n",
    "H #presence of all inchikeys under crystal score of 1"
   ]
  },
  {
   "cell_type": "code",
   "execution_count": 21,
   "metadata": {},
   "outputs": [],
   "source": [
    "array = ['XFYICZOIWSBQSK-UHFFFAOYSA-N', 'JMXLWMIFDJCGBV-UHFFFAOYSA-N', 'CALQKRVFTWDYDG-UHFFFAOYSA-N', 'GGYGJCFIYJVWIP-UHFFFAOYSA-N', 'VMLAEGAAHIIWJX-UHFFFAOYSA-N', 'FCTHQYIDLRRROX-UHFFFAOYSA-N', 'PXWSKGXEHZHFJA-UHFFFAOYSA-N', 'DMFMZFFIQRMJQZ-UHFFFAOYSA-N', 'QRFXELVDJSDWHX-UHFFFAOYSA-N', 'UMDDLGMCNFAZDX-UHFFFAOYSA-O', 'SQXJHWOXNLTOOO-UHFFFAOYSA-N']\n",
    "H = grpd.loc[(grpd['Crystal_Score'] == 2) & grpd['Name'].isin(array)]\n",
    "F = H.Total\n",
    "#H #presence of all inchikeys under crystal score of 2"
   ]
  },
  {
   "cell_type": "code",
   "execution_count": 9,
   "metadata": {},
   "outputs": [],
   "source": [
    "array = ['XFYICZOIWSBQSK-UHFFFAOYSA-N', 'JMXLWMIFDJCGBV-UHFFFAOYSA-N', 'CALQKRVFTWDYDG-UHFFFAOYSA-N', 'GGYGJCFIYJVWIP-UHFFFAOYSA-N', 'VMLAEGAAHIIWJX-UHFFFAOYSA-N', 'FCTHQYIDLRRROX-UHFFFAOYSA-N', 'PXWSKGXEHZHFJA-UHFFFAOYSA-N', 'DMFMZFFIQRMJQZ-UHFFFAOYSA-N', 'QRFXELVDJSDWHX-UHFFFAOYSA-N', 'UMDDLGMCNFAZDX-UHFFFAOYSA-O', 'SQXJHWOXNLTOOO-UHFFFAOYSA-N']\n",
    "H = grpd.loc[(grpd['Crystal_Score'] == 3) & grpd['Name'].isin(array)]\n",
    "F = H.Total\n",
    "#H #presence of all inchikeys under crystal score of 3"
   ]
  },
  {
   "cell_type": "code",
   "execution_count": 10,
   "metadata": {},
   "outputs": [],
   "source": [
    "array = ['XFYICZOIWSBQSK-UHFFFAOYSA-N', 'JMXLWMIFDJCGBV-UHFFFAOYSA-N', 'CALQKRVFTWDYDG-UHFFFAOYSA-N', 'GGYGJCFIYJVWIP-UHFFFAOYSA-N', 'VMLAEGAAHIIWJX-UHFFFAOYSA-N', 'FCTHQYIDLRRROX-UHFFFAOYSA-N', 'PXWSKGXEHZHFJA-UHFFFAOYSA-N', 'DMFMZFFIQRMJQZ-UHFFFAOYSA-N', 'QRFXELVDJSDWHX-UHFFFAOYSA-N', 'UMDDLGMCNFAZDX-UHFFFAOYSA-O', 'SQXJHWOXNLTOOO-UHFFFAOYSA-N']\n",
    "H = grpd.loc[(grpd['Crystal_Score'] == 4) & grpd['Name'].isin(array)]\n",
    "F = H.Total\n",
    "#H #presence of all inchikeys under crystal score of 4"
   ]
  },
  {
   "cell_type": "code",
   "execution_count": 35,
   "metadata": {},
   "outputs": [
    {
     "data": {
      "text/plain": [
       "0.3392953929539295"
      ]
     },
     "execution_count": 35,
     "metadata": {},
     "output_type": "execute_result"
    }
   ],
   "source": [
    "(174+452)/(775+444+174+452) #baseline crystallization rate (3s and 4s/(1s + 2s + 3s + 4s)) [in the observed 11 inchikeys]"
   ]
  },
  {
   "cell_type": "markdown",
   "metadata": {},
   "source": [
    "### We will compare we will compare the experiments where lowest quartile of RH observed is more than 5% difference from the upper quartile in XFYICZOIWSBQSK-UHFFFAOYSA-N.\n"
   ]
  },
  {
   "cell_type": "code",
   "execution_count": 4,
   "metadata": {},
   "outputs": [
    {
     "data": {
      "text/plain": [
       "0.18080357142857142"
      ]
     },
     "execution_count": 4,
     "metadata": {},
     "output_type": "execute_result"
    }
   ],
   "source": [
    "# percent of 3s and 4s in lower quartile\n",
    "81/448"
   ]
  },
  {
   "cell_type": "code",
   "execution_count": 5,
   "metadata": {},
   "outputs": [
    {
     "data": {
      "text/plain": [
       "0.2888086642599278"
      ]
     },
     "execution_count": 5,
     "metadata": {},
     "output_type": "execute_result"
    }
   ],
   "source": [
    "# percent of 3s and 4s in upper quartile\n",
    "80/277"
   ]
  },
  {
   "cell_type": "code",
   "execution_count": 6,
   "metadata": {},
   "outputs": [
    {
     "data": {
      "text/plain": [
       "0.00086344660817117"
      ]
     },
     "execution_count": 6,
     "metadata": {},
     "output_type": "execute_result"
    }
   ],
   "source": [
    "def meanDifference(data, endOfFirstBin): \n",
    "    shuffle(data)\n",
    "    B = (data[0:endOfFirstBin])\n",
    "    C = (data[endOfFirstBin:])\n",
    "    avg = np.random.normal(B)\n",
    "    np.mean(B)\n",
    "    avg2 = np.random.normal(C)\n",
    "    np.mean(C)\n",
    "    return (np.mean(B) - np.mean(C))\n",
    "F = [1, 1, 1, 1, 1, 1, 1, 1, 1, 1, 1, 1, 1, 1, 1, 1, 1, 1, 1, 1, 1, 1, 1, 1, 1, 1, 1, 1, 1, 1, 1, 1, 1, 1, 1, 1, 1, 1, 1, 1, 1, 1, 1, 1, 1, 1, 1, 1, 1, 1, 1, 1, 1, 1, 1, 1, 1, 1, 1, 1, 1, 1, 1, 1, 1, 1, 1, 1, 1, 1, 1, 1, 1, 1, 1, 1, 1, 1, 1, 1, 1, 1, 1, 1, 1, 1, 1, 1, 1, 1, 1, 1, 1, 1, 1, 1, 1, 1, 1, 1, 1, 1, 1, 1, 1, 1, 1, 1, 1, 1, 1, 1, 1, 1, 1, 1, 1, 1, 1, 1, 1, 1, 1, 1, 1, 1, 1, 1, 1, 1, 1, 1, 1, 1, 1, 1, 1, 1, 1, 1, 1, 1, 1, 1, 1, 1, 1, 1, 1, 1, 1, 1, 1, 1, 1, 1, 1, 1, 1, 1, 1, 1, 1, 1, 1, 1, 1, 1, 1, 1, 1, 1, 1, 1, 1, 1, 1, 1, 1, 1, 1, 1, 1, 1, 1, 1, 1, 1, 1, 1, 1, 1, 1, 1, 1, 1, 1, 1, 1, 1, 1, 1, 1, 1, 1, 1, 1, 1, 1, 1, 1, 1, 1, 1, 1, 1, 1, 1, 1, 1, 1, 1, 1, 1, 1, 1, 1, 1, 1, 1, 1, 1, 1, 1, 1, 1, 1, 1, 1, 1, 1, 1, 1, 1, 1, 1, 1, 1, 1, 1, 1, 1, 1, 1, 1, 1, 1, 1, 1, 1, 1, 1, 1, 1, 1, 1, 1, 1, 1, 1, 1, 1, 1, 1, 1, 1, 1, 1, 1, 1, 1, 1, 1, 1, 1, 1, 1, 1, 1, 1, 1, 1, 1, 1, 1, 1, 1, 1, 1, 1, 1, 1, 1, 1, 1, 1, 1, 1, 1, 1, 1, 1, 1, 1, 1, 1, 1, 1, 1, 1, 1, 1, 1, 1, 1, 1, 1, 1, 1, 1, 1, 1, 1, 1, 1, 1, 1, 1, 1, 1, 1, 1, 1, 1, 1, 1, 1, 1, 1, 1, 1, 1, 1, 1, 1, 1, 1, 1, 1, 1, 1, 1, 1, 1, 1, 1, 1, 1, 1, 1, 1, 1, 1, 1, 1, 1, 1, 1, 1, 1, 1, 1, 1, 1, 1, 1, 1, 1, 1, 1, 1, 1, 1, 1, 1, 1, 1, 1, 1, 1, 1, 1, 1, 1, 1, 1, 1, 1, 1, 1, 1, 1, 1, 1, 1, 1, 1, 1, 1, 1, 1, 1, 1, 1, 1, 1, 1, 1, 1, 1, 1, 1, 1, 1, 1, 1, 1, 1, 1, 1, 1, 1, 1, 1, 1, 1, 1, 1, 1, 1, 1, 1, 1, 1, 0, 0, 0, 0, 0, 0, 0, 0, 0, 0, 0, 0, 0, 0, 0, 0, 0, 0, 0, 0, 0, 0, 0, 0, 0, 0, 0, 0, 0, 0, 0, 0, 0, 0, 0, 0, 0, 0, 0, 0, 0, 0, 0, 0, 0, 0, 0, 0, 0, 0, 0, 0, 0, 0, 0, 0, 0, 0, 0, 0, 0, 0, 0, 0, 0, 0, 0, 0, 0, 0, 0, 0, 0, 0, 0, 0, 0, 0, 0, 0, 0, 0, 0, 0, 0, 0, 0, 0, 0, 0, 0, 0, 0, 0, 0, 0, 0, 0, 0, 0, 0, 0, 0, 0, 0, 0, 0, 0, 0, 0, 0, 0, 0, 0, 0, 0, 0, 0, 0, 0, 0, 0, 0, 0, 0, 0, 0, 0, 0, 0, 0, 0, 0, 0, 0, 0, 0, 0, 0, 0, 0, 0, 0, 0, 0, 0, 0, 0, 0, 0, 0, 0, 0, 0, 0, 0, 0, 0, 0, 0, 0, 0, 0, 0, 0, 0, 0, 0, 0, 0, 0, 0, 0, 0, 0, 0, 0, 0, 0, 0, 0, 0, 0, 0, 0, 0, 0, 0, 0, 0, 0, 0, 0, 0, 0, 0, 0, 0, 0, 0, 0, 0, 0, 0, 0, 0, 0, 0, 0, 0, 0, 0, 0, 0, 0, 0, 0, 0, 0, 0, 0, 0, 0, 0, 0, 0, 0, 0, 0, 0, 0, 0, 0, 0, 0, 0, 0, 0, 0, 0, 0, 0, 0, 0, 0, 0, 0, 0, 0, 0, 0, 0, 0, 0, 0, 0, 0, 0, 0, 0, 0, 0, 0, 0, 0, 0, 0, 0, 0, 0, 0, 0, 0, 0, 0, 0, 0, 0, 0, 0, 0, 0, 0, 0, 0, 0, 0, 0, 0, 0, 0, 0, 0, 0, 0, 0, 0, 0, 0, 0, 0, 0, 0, 0, 0, 0, 0, 0, 0, 0, 0, 0, 0, 0, 0, 0, 0, 0, 0, 0, 0, 0, 0, 0, 0, 0, 0, 0, 0, 0, 0, 0, 0, 0, 0, 0, 0, 0, 0, 0, 0, 0, 0, 0, 0, 0, 0, 0, 0, 0, 0, 0, 0, 0, 0, 0, 0, 0, 0, 0, 0, 0, 0, 0, 0, 0, 0, 0, 0, 0, 0, 0, 0, 0, 0, 0, 0, 0, 0, 0, 0, 0, 0, 0, 0, 0, 0, 0, 0, 0, 0, 0, 0, 0, 0, 0, 0, 0, 0, 0, 0, 0, 0, 0, 0, 0, 0, 0, 0, 0, 0, 0, 0, 0, 0, 0, 0, 0, 0, 0, 0, 0, 0, 0, 0, 0, 0, 0, 0, 0, 0, 0, 0, 0, 0, 0, 0, 0, 0, 0, 0, 0, 0, 0, 0, 0, 0, 0, 0, 0, 0, 0, 0, 0, 0, 0, 0, 0, 0, 0, 0, 0, 0, 0, 0, 0, 0, 0, 0, 0, 0, 0, 0, 0, 0, 0, 0, 0, 0, 0, 0, 0, 0, 0, 0, 0, 0, 0, 0, 0, 0, 0, 0, 0, 0, 0, 0, 0, 0, 0, 0, 0, 0, 0, 0, 0, 0, 0, 0, 0, 0, 0, 0, 0, 0, 0, 0, 0, 0, 0, 0, 0, 0, 0, 0, 0, 0, 0, 0, 0, 0, 0, 0, 0, 0, 0, 0, 0, 0, 0, 0, 0, 0, 0, 0, 0, 0, 0, 0, 0, 0, 0, 0, 0, 0, 0, 0, 0, 0, 0, 0, 0, 0, 0, 0, 0, 0, 0, 0, 0, 0, 0, 0, 0, 0, 0, 0, 0, 0, 0, 0, 0, 0, 0, 0, 0, 0, 0, 0, 0, 0, 0, 0, 0, 0, 0, 0, 0, 0, 0, 0, 0, 0, 0, 0, 0, 0, 0, 0, 0, 0, 0, 0, 0, 0, 0, 0, 0, 0, 0, 0, 0, 0, 0, 0, 0, 0, 0, 0, 0, 0, 0, 0, 0, 0, 0, 0, 0, 0, 0, 0, 0, 0, 0, 0, 0, 0, 0, 0, 0, 0, 0, 0, 0, 0, 0, 0, 0, 0, 0, 0, 0, 0, 0, 0, 0, 0, 0, 0, 0, 0, 0, 0, 0, 0, 0, 0, 0, 0, 0, 0, 0, 0, 0, 0, 0, 0, 0, 0, 0, 0, 0, 0, 0, 0, 0, 0, 0, 0, 0, 0, 0, 0, 0, 0, 0, 0, 0, 0, 0, 0, 0, 0, 0, 0, 0, 0, 0, 0, 0, 0, 0, 0, 0, 0, 0, 0, 0, 0, 0, 0, 0, 0, 0, 0, 0, 0, 0, 0, 0, 0, 0, 0, 0, 0, 0, 0, 0, 0, 0, 0, 0, 0, 0, 0, 0, 0, 0, 0, 0, 0, 0, 0, 0, 0, 0, 0, 0, 0, 0, 0, 0, 0, 0, 0, 0, 0, 0, 0, 0, 0, 0, 0, 0, 0, 0, 0, 0, 0, 0, 0, 0, 0, 0, 0, 0, 0, 0, 0, 0, 0, 0, 0, 0, 0, 0, 0, 0, 0, 0, 0, 0, 0, 0, 0, 0, 0, 0, 0, 0, 0, 0, 0, 0, 0, 0, 0, 0, 0, 0, 0, 0, 0, 0, 0, 0, 0, 0, 0, 0, 0, 0, 0, 0, 0, 0, 0, 0, 0, 0, 0, 0, 0, 0, 0, 0, 0, 0, 0, 0, 0, 0, 0, 0, 0, 0, 0, 0, 0, 0, 0, 0, 0, 0, 0, 0, 0, 0, 0, 0, 0, 0, 0, 0, 0, 0, 0, 0, 0, 0, 0, 0, 0, 0, 0, 0, 0, 0, 0, 0, 0, 0, 0, 0, 0, 0, 0, 0, 0, 0, 0, 0, 0, 0, 0, 0, 0, 0, 0, 0, 0, 0, 0, 0, 0, 0, 0, 0, 0, 0, 0, 0, 0, 0, 0, 0, 0, 0, 0, 0, 0, 0, 0, 0, 0, 0, 0, 0, 0, 0, 0, 0, 0, 0, 0, 0, 0, 0, 0, 0, 0, 0, 0, 0, 0, 0, 0, 0, 0, 0, 0, 0, 0, 0, 0, 0, 0, 0, 0, 0, 0, 0, 0, 0, 0, 0, 0, 0, 0, 0, 0, 0, 0, 0, 0, 0, 0, 0, 0, 0, 0, 0, 0, 0, 0, 0, 0, 0, 0, 0, 0, 0, 0, 0, 0, 0, 0, 0, 0, 0, 0, 0, 0, 0, 0, 0, 0, 0, 0, 0, 0, 0, 0, 0, 0, 0, 0, 0, 0, 0, 0, 0, 0, 0, 0, 0, 0, 0, 0, 0, 0, 0, 0, 0, 0, 0, 0, 0, 0, 0, 0, 0, 0, 0, 0, 0, 0, 0, 0, 0, 0, 0, 0, 0, 0, 0, 0, 0, 0, 0, 0, 0, 0, 0, 0, 0, 0, 0, 0, 0, 0, 0, 0, 0, 0, 0, 0, 0, 0, 0, 0, 0, 0, 0, 0, 0, 0, 0, 0, 0, 0, 0, 0, 0, 0, 0, 0, 0, 0, 0, 0, 0, 0, 0, 0, 0, 0, 0, 0, 0, 0, 0, 0, 0, 0, 0, 0, 0, 0, 0, 0, 0, 0, 0, 0, 0, 0, 0, 0, 0, 0, 0, 0, 0, 0, 0, 0, 0, 0, 0, 0, 0, 0, 0, 0, 0, 0, 0, 0, 0, 0, 0, 0, 0, 0, 0, 0, 0, 0, 0, 0, 0, 0, 0, 0, 0, 0, 0, 0, 0, 0, 0, 0, 0, 0, 0, 0, 0, 0, 0, 0, 0, 0, 0, 0, 0, 0, 0, 0, 0, 0, 0, 0, 0, 0, 0, 0, 0, 0, 0, 0, 0, 0, 0, 0, 0, 0, 0, 0, 0, 0, 0, 0, 0, 0, 0, 0, 0, 0, 0, 0, 0, 0, 0, 0, 0, 0, 0, 0, 0, 0, 0, 0, 0, 0, 0, 0, 0, 0, 0, 0, 0, 0, 0, 0, 0, 0, 0, 0, 0, 0, 0, 0, 0, 0, 0, 0, 0, 0, 0, 0, 0, 0, 0, 0, 0, 0, 0, 0, 0, 0, 0, 0, 0, 0, 0, 0, 0, 0, 0, 0, 0, 0, 0, 0, 0, 0, 0, 0, 0, 0, 0, 0, 0, 0, 0, 0, 0, 0, 0, 0, 0, 0, 0, 0, 0, 0, 0, 0, 0, 0, 0, 0, 0, 0, 0, 0, 0, 0, 0, 0, 0, 0, 0, 0, 0, 0, 0, 0, 0, 0, 0, 0, 0, 0, 0, 0, 0, 0, 0, 0, 0, 0, 0, 0, 0, 0, 0, 0, 0, 0, 0, 0, 0, 0, 0, 0, 0, 0, 0, 0, 0, 0, 0, 0, 0, 0, 0, 0, 0, 0, 0, 0, 0, 0, 0, 0, 0, 0, 0, 0, 0, 0, 0, 0, 0, 0, 0, 0, 0, 0, 0, 0, 0, 0, 0, 0, 0, 0, 0, 0, 0, 0, 0, 0, 0, 0, 0, 0, 0, 0, 0, 0, 0, 0, 0, 0, 0, 0, 0, 0, 0, 0, 0, 0, 0, 0, 0, 0, 0, 0, 0, 0, 0, 0, 0, 0, 0, 0, 0, 0, 0, 0, 0, 0, 0, 0, 0, 0, 0, 0, 0, 0, 0, 0, 0, 0, 0, 0, 0, 0, 0, 0, 0, 0, 0, 0, 0, 0, 0, 0, 0, 0, 0, 0, 0, 0, 0, 0, 0, 0, 0, 0, 0, 0, 0, 0, 0, 0, 0, 0, 0, 0, 0, 0, 0, 0, 0, 0, 0, 0, 0, 0, 0, 0, 0, 0, 0, 0, 0, 1, 1, 1, 1, 1, 1, 1, 1, 1, 1, 1, 1, 1, 1, 1, 1, 1, 1, 1, 1, 1, 1, 1, 1, 1, 1, 1, 1, 1, 1, 1, 1, 1, 1, 1, 1, 1, 1, 1, 1, 1, 1, 1, 1, 1, 1, 1, 1, 1, 1, 1, 1, 1, 1, 1, 1, 1, 1, 1, 1, 1, 1, 1, 1, 1, 1, 1, 1, 1, 1, 1, 1, 1, 1, 1, 1, 1, 1, 1, 1, 1, 1, 1, 1, 1, 1, 1, 1, 1, 1, 1, 1, 1, 1, 1, 1, 1, 1, 1, 1, 1, 1, 1, 1, 1, 1, 1, 1, 1, 1, 1, 1, 1, 1, 1, 1, 1, 1, 1, 1, 1, 1, 1, 1, 1, 1, 1, 1, 1, 1, 1, 1, 1, 1, 1, 1, 1, 1, 1, 1, 1, 1, 1, 1, 1, 1, 1, 1, 1, 1, 1, 1, 1, 1, 1, 1, 1, 1, 1, 1, 1, 1, 1, 1, 1, 1, 1, 1, 1, 1, 1, 1, 1, 1, 1, 1, 1, 1, 1, 1, 1, 1, 1, 1, 1, 1, 1, 1, 1, 1, 1, 1, 1, 1, 1, 1, 1, 1, 1, 1, 1, 1, 1, 1, 1, 1, 1, 1, 1, 1, 1, 1, 1, 1, 1, 1, 1, 1, 1, 1, 1, 1, 1, 1, 1, 1, 1, 1, 1, 1, 1, 1, 1, 1, 1, 1, 1, 1, 1, 1, 1, 1, 1, 1, 1, 1, 1, 1, 1, 1, 1, 1, 1, 1, 1, 1, 1, 1, 1, 1, 1, 1, 1, 1, 1, 1, 1, 1, 1, 1, 1, 1, 1, 1, 1, 1, 1, 1, 1, 1, 1, 1, 1, 1, 1, 1, 1, 1, 1, 1, 1, 1, 1, 1, 1, 1, 1, 1, 1, 1, 1, 1, 1, 1, 1, 1, 1, 1, 1, 1, 1, 1, 1, 1, 1, 1, 1, 1, 1, 1, 1, 1, 1, 1, 1, 1, 1, 1, 1, 1, 1, 1, 1, 1, 1, 1, 1, 1, 1, 1, 1, 1, 1, 1, 1, 1, 1, 1, 1, 1, 1, 1, 1, 1, 1, 1, 1, 1, 1, 1, 1, 1, 1, 1, 1, 1, 1, 1, 1, 1, 1, 1, 1, 1, 1, 1, 1, 1, 1, 1, 1, 1, 1, 1, 1, 1, 1, 1, 1, 1, 1, 1, 1, 1, 1, 1, 1, 1, 1, 1, 1, 1, 1, 1, 1, 1, 1, 1, 1, 1, 1, 1, 1, 1, 1, 1, 1, 1, 1, 1, 1, 1, 1, 1, 1, 1, 1, 1, 1, 1, 1, 1, 1, 1, 1, 1, 1, 1, 1, 1, 1, 1, 1, 1, 1, 1, 1, 1, 1, 1, 1, 1, 1, 1, 1, 1, 1, 1, 1, 1, 1, 1, 1, 1, 1, 1, 1, 1, 1, 1, 1, 1, 1, 1, 1, 1, 1, 1, 1, 1, 1, 1, 1, 1, 1, 1, 1, 1, 1, 1, 1, 1, 1, 1, 1, 1, 1, 1, 1, 1, 1, 1, 1, 1, 1, 1, 1, 1, 1, 1, 1, 1, 1, 1, 1, 1, 1, 1, 1, 1, 1, 1, 1, 1, 1, 1, 1, 1, 1, 1, 1, 1, 1, 1, 1, 1, 1, 1, 1, 1, 1, 0, 0, 0, 0, 0, 0, 0, 0, 0, 0, 0, 0, 0, 0, 0, 0, 0, 0, 0, 0, 0, 0, 0, 0, 0, 0, 0, 0, 0, 0, 0, 0, 0, 0, 0, 0, 0, 0, 0, 0, 0, 0, 0, 0, 0, 0, 0, 0, 0, 0, 0, 0, 0, 0, 0, 0, 0, 0, 0, 0, 0, 0, 0, 0, 0, 0, 0, 0, 0, 0, 0, 0, 0, 0, 0, 0, 0, 0, 0, 0, 0, 0, 0, 0, 0, 0, 0, 0, 0, 0, 0, 0, 0, 0, 0, 0, 0, 0, 0, 0, 0, 0, 0, 0, 0, 0, 0, 0, 0, 0, 0, 0, 0, 0, 0, 0, 0, 0, 0, 0, 0, 0, 0, 0, 0, 0, 0, 0, 0, 0, 0, 0, 0, 0, 0, 0, 0, 0, 0, 0, 0, 0, 0, 0, 0, 0, 0, 0, 0, 0, 0, 0, 0, 0, 0, 0, 0, 0, 0, 0, 0, 0, 0, 0, 0, 0, 0, 0, 0, 0, 0, 0, 0, 0, 0, 0, 0, 0, 0, 0, 0, 0, 0, 0, 0, 0, 0, 0, 0, 0, 0, 0, 0, 0, 0, 0, 0, 0, 0, 0, 0, 0, 0, 0, 0, 0, 0, 0, 0, 0, 0, 0, 0, 0, 0, 0, 0, 0, 0, 0, 0, 0, 0, 0, 0, 0, 0, 0, 0, 0, 0, 0, 0, 0, 0, 0, 0, 0, 0, 0, 0, 0, 0, 0, 0, 0, 0, 0, 0, 0, 0, 0, 0, 0, 0, 0, 0, 0, 0, 0, 0, 0, 0, 0, 0, 0, 0, 0, 0, 0, 0, 0, 0, 0, 0, 0, 0, 0, 0, 0, 0, 0, 0, 0, 0, 0, 0, 0, 0, 0, 0, 0, 0, 0, 0, 0, 0, 0, 0, 0, 0, 0, 0, 0, 0, 0, 0, 0, 0, 0, 0, 0, 0, 0, 0, 0, 0, 0, 0, 0, 0, 0, 0, 0, 0, 0, 0, 0, 0, 0, 0, 0, 0, 0, 0, 0, 0, 0, 0, 0, 0, 0, 0, 0, 0, 0, 0, 0, 0, 0, 0, 0, 0, 0, 0, 0, 0, 0, 0, 0, 0, 0, 0, 0, 0, 0, 0, 0, 0, 0, 0, 0, 0, 0, 0, 0, 0, 0, 0, 0, 0, 0, 0, 0, 0, 0, 0, 0, 0, 0, 0, 0, 0, 0, 0, 0, 0, 0, 0, 0, 0, 0, 0, 0, 0, 0, 0, 0, 0, 0, 0, 0, 0, 0, 0, 0, 0, 0, 0, 0, 0, 0, 0, 0, 0, 0, 0, 0, 0, 0, 0, 0, 0, 0, 0, 0, 0, 0, 0, 0, 0, 0, 0, 0, 0, 0, 0, 0, 0, 0, 0, 0, 0, 0, 0, 0, 0, 0, 0, 0, 0, 0, 0, 0, 0, 0, 0, 0, 0, 0, 0, 0, 0, 0, 0, 0, 0, 0, 0, 0, 0, 0, 0, 0, 0, 0, 0, 0, 0, 0, 0, 0, 0, 0, 0, 0, 0, 0, 0, 0, 0, 0, 0, 0, 0, 0, 0, 0, 0, 0, 0, 0, 0, 0, 0, 0, 0, 0, 0, 0, 0, 0, 0, 0, 0, 0, 0, 0, 0, 0, 0, 0, 0, 0, 0, 0, 0, 0, 0, 0, 0, 0, 0, 0, 0, 0, 0, 0, 0, 0, 0, 0, 0, 0, 0, 0, 0, 0, 0, 0, 0, 0, 0, 0, 0, 0, 0, 0, 0, 0, 0, 0, 0, 0, 0, 0, 0, 0, 0, 0, 0, 0, 0, 0, 0, 0, 0, 0, 0, 0, 0, 0, 0, 0, 0, 0, 0, 0, 0, 0, 0, 0, 0, 0, 0, 0, 0, 0, 0, 0, 0, 0, 0, 0, 0, 0, 0, 0, 0, 0, 0, 0, 0, 0, 0, 0, 0, 0, 0, 0, 0, 0, 0, 0, 0, 0, 0, 0, 0, 0, 0, 0, 0, 0, 0, 0, 0, 0, 0, 0, 0, 0, 0, 0, 0, 0, 0, 0, 0, 0, 0, 0, 0, 0, 0, 0, 0, 0, 0, 0, 0, 0, 0, 0, 0, 0, 0, 0, 0, 0, 0, 0, 0, 0, 0, 0, 0, 0, 0, 0, 0, 0, 0, 0, 0, 0, 0, 0, 0, 0, 0, 0, 0, 0, 0, 0, 0, 0, 0, 0, 0, 0, 0, 0, 0, 0, 0, 0, 0, 0, 0, 0, 0, 0, 0, 0, 0, 0, 0, 0, 0, 0, 0, 0, 0, 0, 0, 0, 0, 0, 0, 0, 0, 0, 0, 0, 0, 0, 0, 0, 0, 0, 0, 0, 0, 0, 0, 0, 0, 0, 0, 0, 0, 0, 0, 0, 0, 0, 0, 0, 0, 0, 0, 0, 0, 0, 0, 0, 0, 0, 0, 0, 0, 0, 0, 0, 0, 0, 0, 0, 0, 0, 0, 0, 0, 0, 0, 0, 0, 0, 0, 0, 0, 0, 0, 0, 0, 0, 0, 0, 0, 0, 0, 0, 0, 0, 0, 0, 0, 0, 0, 0, 0, 0, 0, 0, 0, 0, 0, 0, 0, 0, 0, 0, 0, 0, 0, 0, 0, 0, 0, 0, 0, 0, 0, 0, 0, 0, 0, 0, 0, 0, 0, 0, 0, 0, 0, 0, 0, 0, 0, 0, 0, 0, 0, 0, 0, 0, 0, 0, 0, 0, 0, 0, 0, 0, 0, 0, 0, 0, 0, 0, 0, 0, 0, 0, 0, 0, 0, 0, 0, 0, 0, 0, 0, 0, 0, 0, 0, 0, 0, 0, 0, 0, 0, 0, 0, 0, 0, 0, 0, 0, 0, 0, 0, 0, 0, 0, 0, 0, 0, 0, 0, 0, 0, 0, 0, 0, 0, 0, 0, 0, 0, 0, 0, 0, 0, 0, 0, 0, 0, 0, 0, 0, 0, 0, 0, 0, 0, 0, 0, 0, 0, 0, 0, 0, 0, 0, 0, 0, 0, 0, 0, 0, 0, 0, 0, 0, 0, 0, 0, 0, 0, 0, 0, 0, 0, 0, 0, 0, 0, 0, 0, 0, 0, 0, 0, 0, 0, 0, 0, 0, 0, 0, 0, 0, 0, 0, 0, 0, 0, 0, 0, 0, 0, 0, 0, 0, 0, 0, 0, 0, 0, 0, 0, 0, 0, 0, 0, 0, 0, 0, 0, 0, 0, 0, 0, 0, 0, 0, 0, 0, 0, 0, 0, 0, 0, 0, 0, 0, 0, 0, 0, 0, 0, 0, 0, 0, 0, 0, 0, 0, 0, 0, 0, 0, 0, 0, 0, 0, 0, 0, 0, 0, 0, 0, 0, 0, 0, 0, 0, 0, 0, 0, 0, 0, 0, 0, 0, 0, 0, 0, 0, 0, 0, 0, 0, 0, 0, 0, 0, 0, 0, 0, 0, 0, 0, 0, 0, 0, 0, 0, 0, 0, 0, 0, 0, 0, 0, 0, 0, 0, 0, 0, 0, 0, 0, 0, 0, 0, 0, 0, 0, 0, 0, 0, 0, 0, 0, 0, 0, 0, 0, 0, 0, 0, 0, 0, 0, 0, 0, 0, 0, 0, 0, 0, 0, 0, 0, 0, 0, 0, 0, 0, 0, 0, 0, 0, 0, 0, 0, 0, 0, 0, 0, 0, 0, 0, 0, 0, 0, 0, 0, 0, 0, 0, 0, 0, 0, 0, 0, 0, 0, 0, 0, 0, 0, 0, 0, 0, 0, 0, 0, 0, 0, 0, 0, 0, 0, 0, 0, 0, 0, 0, 0, 0, 0, 0, 0, 0, 0, 0, 0, 0, 0, 0, 0, 0, 0, 0, 0, 0, 0, 0, 0, 0, 0, 0, 0, 0, 0, 0, 0, 0, 0, 0, 0, 0, 0, 0, 0, 0, 0, 0, 0, 0, 0, 0, 0, 0, 0, 0, 0, 0, 0, 0, 0, 0, 0, 0, 0, 0, 0, 0, 0, 0, 0, 0, 0, 0, 0, 0, 0, 0, 0, 0, 0, 0, 0, 0, 0, 0, 0, 0, 0, 0, 0, 0, 0, 0, 0, 0, 0, 0, 0, 0, 0, 0, 0, 0, 0, 0, 0, 0, 0, 0, 0, 0, 0, 0, 0, 0, 0, 0, 0, 0, 0, 0, 0, 0, 0, 0, 0, 0, 0, 0, 0, 0, 0, 0, 0, 0, 0, 0, 0, 0, 0, 0, 0, 0, 0, 0, 0, 0, 0, 0, 0, 0, 0, 0, 0, 0, 0, 0, 0, 0, 0, 0, 0, 0, 0, 0, 0, 0, 0, 0, 0, 0, 0, 0, 0, 0, 0, 0, 0, 0, 0, 0, 0, 0, 0, 0, 0, 0, 0, 0, 0, 0, 0, 0, 0, 0, 0, 0, 0, 0, 0, 0, 0, 0, 0, 0, 0, 0, 0, 0, 0, 0, 0, 0, 0, 0, 0, 0, 0, 0, 0, 0, 0, 0, 0, 0, 0, 0, 0, 0, 0, 0, 0, 0, 0, 0, 0, 0, 0, 0, 0, 0, 0, 0, 0, 0, 0, 0, 0, 0, 0, 0, 0, 0, 0, 0, 0, 0, 0, 0, 0, 0, 0, 0, 0, 0, 0, 0, 0, 0, 0, 0, 0, 0]\n",
    "meanDifference(F, 1984) #This method is the essence of a 2-proportion significance test. It allows us to simulate a distribution by randomly shuffling our \"1s\" and \"0s\" and then "
   ]
  },
  {
   "cell_type": "code",
   "execution_count": 47,
   "metadata": {},
   "outputs": [
    {
     "name": "stdout",
     "output_type": "stream",
     "text": [
      "[1, 1, 1, 1, 1, 1] [0, 0, 0, 0, 0, 0, 0, 0, 0, 0, 0, 0, 0, 0, 0, 0, 0, 0, 0, 0, 0, 0, 0, 0, 0, 0, 0, 0, 0, 0, 0, 0, 0, 0, 0, 0, 0, 0, 0, 0, 0, 0, 0, 0, 0, 0, 0, 0, 0, 0, 0, 0, 0, 0, 0, 0, 0, 0, 0, 0, 0, 0, 0, 0, 0, 0, 0, 0, 0, 0, 0, 0, 0, 0, 0, 0, 0, 0, 0, 0, 0, 0, 0, 0, 0, 0, 0, 0, 0, 0] [1, 1, 1, 1, 1, 1, 1, 1, 1, 1, 1, 1] [0, 0, 0, 0, 0, 0, 0, 0, 0, 0, 0, 0, 0, 0, 0, 0, 0, 0, 0, 0, 0, 0, 0, 0, 0, 0, 0, 0, 0, 0, 0, 0, 0, 0, 0]\n"
     ]
    }
   ],
   "source": [
    "my_list = [1]\n",
    "my_list2 = [0]\n",
    "my_list3 = [1]\n",
    "my_list4 = [0]\n",
    "n = 6\n",
    "n2 = 90\n",
    "n3 =12\n",
    "n4 =35\n",
    "print(my_list * n, my_list2 * n2, my_list3 * n3, my_list4 * n4)"
   ]
  },
  {
   "cell_type": "code",
   "execution_count": 17,
   "metadata": {},
   "outputs": [
    {
     "data": {
      "text/plain": [
       "0.014682181536874672"
      ]
     },
     "execution_count": 17,
     "metadata": {},
     "output_type": "execute_result"
    }
   ],
   "source": [
    "def meanDifference(data, endOfFirstBin): \n",
    "    shuffle(data)\n",
    "    B = (data[0:endOfFirstBin])\n",
    "    C = (data[endOfFirstBin:])\n",
    "    avg = np.random.normal(B)\n",
    "    np.mean(B)\n",
    "    avg2 = np.random.normal(C)\n",
    "    np.mean(C)\n",
    "    return (np.mean(B) - np.mean(C))\n",
    "P = [1, 1, 1, 1, 1, 1, 1, 1, 1, 1, 1, 1, 1, 1, 1, 1, 1, 1, 1, 1, 1, 1, 1, 1, 1, 1, 1, 1, 1, 1, 1, 1, 1, 1, 1, 1, 1, 1, 1, 1, 1, 1, 1, 1, 1, 1, 1, 1, 1, 1, 1, 1, 1, 1, 1, 1, 1, 1, 1, 1, 1, 1, 1, 1, 1, 1, 1, 1, 1, 1, 1, 1, 1, 1, 1, 1, 1, 1, 1, 1, 1, 0, 0, 0, 0, 0, 0, 0, 0, 0, 0, 0, 0, 0, 0, 0, 0, 0, 0, 0, 0, 0, 0, 0, 0, 0, 0, 0, 0, 0, 0, 0, 0, 0, 0, 0, 0, 0, 0, 0, 0, 0, 0, 0, 0, 0, 0, 0, 0, 0, 0, 0, 0, 0, 0, 0, 0, 0, 0, 0, 0, 0, 0, 0, 0, 0, 0, 0, 0, 0, 0, 0, 0, 0, 0, 0, 0, 0, 0, 0, 0, 0, 0, 0, 0, 0, 0, 0, 0, 0, 0, 0, 0, 0, 0, 0, 0, 0, 0, 0, 0, 0, 0, 0, 0, 0, 0, 0, 0, 0, 0, 0, 0, 0, 0, 0, 0, 0, 0, 0, 0, 0, 0, 0, 0, 0, 0, 0, 0, 0, 0, 0, 0, 0, 0, 0, 0, 0, 0, 0, 0, 0, 0, 0, 0, 0, 0, 0, 0, 0, 0, 0, 0, 0, 0, 0, 0, 0, 0, 0, 0, 0, 0, 0, 0, 0, 0, 0, 0, 0, 0, 0, 0, 0, 0, 0, 0, 0, 0, 0, 0, 0, 0, 0, 0, 0, 0, 0, 0, 0, 0, 0, 0, 0, 0, 0, 0, 0, 0, 0, 0, 0, 0, 0, 0, 0, 0, 0, 0, 0, 0, 0, 0, 0, 0, 0, 0, 0, 0, 0, 0, 0, 0, 0, 0, 0, 0, 0, 0, 0, 0, 0, 0, 0, 0, 0, 0, 0, 0, 0, 0, 0, 0, 0, 0, 0, 0, 0, 0, 0, 0, 0, 0, 0, 0, 0, 0, 0, 0, 0, 0, 0, 0, 0, 0, 0, 0, 0, 0, 0, 0, 0, 0, 0, 0, 0, 0, 0, 0, 0, 0, 0, 0, 0, 0, 0, 0, 0, 0, 0, 0, 0, 0, 0, 0, 0, 0, 0, 0, 0, 0, 0, 0, 0, 0, 0, 0, 0, 0, 0, 0, 0, 0, 0, 0, 0, 0, 0, 0, 0, 0, 0, 0, 0, 0, 0, 0, 0, 0, 0, 0, 0, 0, 0, 0, 0, 0, 0, 0, 0, 0, 0, 0, 0, 0, 0, 0, 0, 0, 0, 0, 0, 0, 0, 0, 0, 0, 0, 0, 0, 0, 0, 0, 0, 0, 0, 0, 0, 1, 1, 1, 1, 1, 1, 1, 1, 1, 1, 1, 1, 1, 1, 1, 1, 1, 1, 1, 1, 1, 1, 1, 1, 1, 1, 1, 1, 1, 1, 1, 1, 1, 1, 1, 1, 1, 1, 1, 1, 1, 1, 1, 1, 1, 1, 1, 1, 1, 1, 1, 1, 1, 1, 1, 1, 1, 1, 1, 1, 1, 1, 1, 1, 1, 1, 1, 1, 1, 1, 1, 1, 1, 1, 1, 1, 1, 1, 1, 1, 0, 0, 0, 0, 0, 0, 0, 0, 0, 0, 0, 0, 0, 0, 0, 0, 0, 0, 0, 0, 0, 0, 0, 0, 0, 0, 0, 0, 0, 0, 0, 0, 0, 0, 0, 0, 0, 0, 0, 0, 0, 0, 0, 0, 0, 0, 0, 0, 0, 0, 0, 0, 0, 0, 0, 0, 0, 0, 0, 0, 0, 0, 0, 0, 0, 0, 0, 0, 0, 0, 0, 0, 0, 0, 0, 0, 0, 0, 0, 0, 0, 0, 0, 0, 0, 0, 0, 0, 0, 0, 0, 0, 0, 0, 0, 0, 0, 0, 0, 0, 0, 0, 0, 0, 0, 0, 0, 0, 0, 0, 0, 0, 0, 0, 0, 0, 0, 0, 0, 0, 0, 0, 0, 0, 0, 0, 0, 0, 0, 0, 0, 0, 0, 0, 0, 0, 0, 0, 0, 0, 0, 0, 0, 0, 0, 0, 0, 0, 0, 0, 0, 0, 0, 0, 0, 0, 0, 0, 0, 0, 0, 0, 0, 0, 0, 0, 0, 0, 0, 0, 0, 0, 0, 0, 0, 0, 0, 0, 0, 0, 0, 0, 0, 0, 0, 0, 0, 0, 0, 0, 0, 0, 0, 0, 0, 0, 0]\n",
    "meanDifference(P, 448)"
   ]
  },
  {
   "cell_type": "code",
   "execution_count": 18,
   "metadata": {},
   "outputs": [
    {
     "name": "stdout",
     "output_type": "stream",
     "text": [
      "Standard Deviation of sample is 0.03194668302023189 \n"
     ]
    }
   ],
   "source": [
    "results = [meanDifference(P, 448) for trial in range(10000)]\n",
    "print(\"Standard Deviation of sample is % s \" \n",
    "                % (statistics.stdev(results)))"
   ]
  },
  {
   "cell_type": "code",
   "execution_count": 21,
   "metadata": {},
   "outputs": [
    {
     "data": {
      "image/png": "[encoded data removed]",
      "text/plain": [
       "<Figure size 432x288 with 1 Axes>"
      ]
     },
     "metadata": {
      "needs_background": "light"
     },
     "output_type": "display_data"
    }
   ],
   "source": [
    "x = results\n",
    "plt.hist(x, bins=20)\n",
    "plt.ylabel('No of times')\n",
    "plt.xlabel('mean difference')\n",
    "plt.title('# of occurences of each mean difference')\n",
    "plt.show()"
   ]
  },
  {
   "cell_type": "code",
   "execution_count": 22,
   "metadata": {},
   "outputs": [
    {
     "data": {
      "text/plain": [
       "0.10800509283135637"
      ]
     },
     "execution_count": 22,
     "metadata": {},
     "output_type": "execute_result"
    }
   ],
   "source": [
    "0.2888086642599278 - 0.18080357142857142"
   ]
  },
  {
   "cell_type": "code",
   "execution_count": 23,
   "metadata": {},
   "outputs": [],
   "source": [
    "k = 0.10800509283135637"
   ]
  },
  {
   "cell_type": "code",
   "execution_count": 24,
   "metadata": {},
   "outputs": [
    {
     "name": "stdout",
     "output_type": "stream",
     "text": [
      "The numbers greater than 0.10800509283135637 : 5\n"
     ]
    }
   ],
   "source": [
    "count = len([i for i in results if i > k])\n",
    "print (\"The numbers greater than 0.10800509283135637 : \" + str(count))"
   ]
  },
  {
   "cell_type": "markdown",
   "metadata": {},
   "source": [
    "## Conclusion\n",
    "There are only 5 instances out of 10,000 of a simulated mean difference being greater than the real mean difference. Considering .005 is less than any reasonable Alpha value, we have evidence to suggest that the difference between a \"low\" relative humidity and a \"high\" relative humidity is significant for XFYICZOIWSBQSK-UHFFFAOYSA-N, with a high relative humidity leading to better quality crystals."
   ]
  },
  {
   "cell_type": "markdown",
   "metadata": {},
   "source": [
    "## JMXLWMIFDJCGBV-UHFFFAOYSA-N "
   ]
  },
  {
   "cell_type": "code",
   "execution_count": 28,
   "metadata": {},
   "outputs": [
    {
     "data": {
      "text/plain": [
       "0.8165137614678899"
      ]
     },
     "execution_count": 28,
     "metadata": {},
     "output_type": "execute_result"
    }
   ],
   "source": [
    "# percent of 3's and 4's in  lower quartile\n",
    "89/109"
   ]
  },
  {
   "cell_type": "code",
   "execution_count": 30,
   "metadata": {},
   "outputs": [
    {
     "data": {
      "text/plain": [
       "0.5026178010471204"
      ]
     },
     "execution_count": 30,
     "metadata": {},
     "output_type": "execute_result"
    }
   ],
   "source": [
    "#percent of 3's and 4's in upper quartile\n",
    "96/191"
   ]
  },
  {
   "cell_type": "code",
   "execution_count": 38,
   "metadata": {},
   "outputs": [
    {
     "data": {
      "text/plain": [
       "-0.031941976079542744"
      ]
     },
     "execution_count": 38,
     "metadata": {},
     "output_type": "execute_result"
    }
   ],
   "source": [
    "def meanDifference(data, endOfFirstBin): \n",
    "    shuffle(data)\n",
    "    G = (data[0:endOfFirstBin])\n",
    "    H = (data[endOfFirstBin:])\n",
    "    avg = np.random.normal(G)\n",
    "    np.mean(G)\n",
    "    avg2 = np.random.normal(H)\n",
    "    np.mean(H)\n",
    "    return (np.mean(G) - np.mean(H))\n",
    "D = [1, 1, 1, 1, 1, 1, 1, 1, 1, 1, 1, 1, 1, 1, 1, 1, 1, 1, 1, 1, 1, 1, 1, 1, 1, 1, 1, 1, 1, 1, 1, 1, 1, 1, 1, 1, 1, 1, 1, 1, 1, 1, 1, 1, 1, 1, 1, 1, 1, 1, 1, 1, 1, 1, 1, 1, 1, 1, 1, 1, 1, 1, 1, 1, 1, 1, 1, 1, 1, 1, 1, 1, 1, 1, 1, 1, 1, 1, 1, 1, 1, 1, 1, 1, 1, 1, 1, 1, 1, 0, 0, 0, 0, 0, 0, 0, 0, 0, 0, 0, 0, 0, 0, 0, 0, 0, 0, 0, 0, 1, 1, 1, 1, 1, 1, 1, 1, 1, 1, 1, 1, 1, 1, 1, 1, 1, 1, 1, 1, 1, 1, 1, 1, 1, 1, 1, 1, 1, 1, 1, 1, 1, 1, 1, 1, 1, 1, 1, 1, 1, 1, 1, 1, 1, 1, 1, 1, 1, 1, 1, 1, 1, 1, 1, 1, 1, 1, 1, 1, 1, 1, 1, 1, 1, 1, 1, 1, 1, 1, 1, 1, 1, 1, 1, 1, 1, 1, 1, 1, 1, 1, 1, 1, 1, 1, 1, 1, 1, 1, 1, 1, 1, 1, 1, 1, 0, 0, 0, 0, 0, 0, 0, 0, 0, 0, 0, 0, 0, 0, 0, 0, 0, 0, 0, 0, 0, 0, 0, 0, 0, 0, 0, 0, 0, 0, 0, 0, 0, 0, 0, 0, 0, 0, 0, 0, 0, 0, 0, 0, 0, 0, 0, 0, 0, 0, 0, 0, 0, 0, 0, 0, 0, 0, 0, 0, 0, 0, 0, 0, 0, 0, 0, 0, 0, 0, 0, 0, 0, 0, 0, 0, 0, 0, 0, 0, 0, 0, 0, 0, 0, 0, 0, 0, 0, 0, 0, 0, 0, 0, 0]\n",
    "meanDifference(D, 109)"
   ]
  },
  {
   "cell_type": "code",
   "execution_count": 39,
   "metadata": {},
   "outputs": [
    {
     "name": "stdout",
     "output_type": "stream",
     "text": [
      "Standard Deviation of sample is 0.03194668302023189 \n"
     ]
    }
   ],
   "source": [
    "results2 = [meanDifference(P, 109) for trial in range(10000)]\n",
    "print(\"Standard Deviation of sample is % s \" \n",
    "                % (statistics.stdev(results)))"
   ]
  },
  {
   "cell_type": "code",
   "execution_count": 42,
   "metadata": {},
   "outputs": [
    {
     "data": {
      "image/png": "[encoded data removed]",
      "text/plain": [
       "<Figure size 432x288 with 1 Axes>"
      ]
     },
     "metadata": {
      "needs_background": "light"
     },
     "output_type": "display_data"
    }
   ],
   "source": [
    "x = results2\n",
    "plt.hist(x, bins=15)\n",
    "plt.ylabel('No of times')\n",
    "plt.xlabel('mean difference')\n",
    "plt.title('# of occurences of each mean difference')\n",
    "plt.show()"
   ]
  },
  {
   "cell_type": "code",
   "execution_count": 43,
   "metadata": {},
   "outputs": [
    {
     "data": {
      "text/plain": [
       "0.3138959604207695"
      ]
     },
     "execution_count": 43,
     "metadata": {},
     "output_type": "execute_result"
    }
   ],
   "source": [
    "0.8165137614678899 - 0.5026178010471204"
   ]
  },
  {
   "cell_type": "code",
   "execution_count": 45,
   "metadata": {},
   "outputs": [],
   "source": [
    "j = 0.3138959604207695"
   ]
  },
  {
   "cell_type": "code",
   "execution_count": 46,
   "metadata": {},
   "outputs": [
    {
     "name": "stdout",
     "output_type": "stream",
     "text": [
      "The numbers greater than 0.04018974270544268 : 0\n"
     ]
    }
   ],
   "source": [
    "count = len([i for i in results if i > j])\n",
    "print (\"The numbers greater than 0.04018974270544268 : \" + str(count))"
   ]
  },
  {
   "cell_type": "markdown",
   "metadata": {},
   "source": [
    "## CONCLUSION:\n",
    "\n",
    "There are 0 instances out of 10,000 of a simulated mean difference being greater than the real mean difference. Considering 0 is less than any reasonable Alpha value, we have evidence to suggest that the difference between a \"low\" relative humidity and a \"high\" relative humidity is significant for JMXLWMIFDJCGBV-UHFFFAOYSA-N, with a low relative humidity leading to better quality crystals."
   ]
  },
  {
   "cell_type": "markdown",
   "metadata": {},
   "source": [
    "## CALQKRVFTWDYDG-UHFFFAOYSA-N"
   ]
  },
  {
   "cell_type": "code",
   "execution_count": 8,
   "metadata": {},
   "outputs": [
    {
     "data": {
      "text/plain": [
       "0.3333333333333333"
      ]
     },
     "execution_count": 8,
     "metadata": {},
     "output_type": "execute_result"
    }
   ],
   "source": [
    "# 3s and 4s in lower quartile\n",
    "32/96"
   ]
  },
  {
   "cell_type": "code",
   "execution_count": 9,
   "metadata": {},
   "outputs": [
    {
     "data": {
      "text/plain": [
       "0.10869565217391304"
      ]
     },
     "execution_count": 9,
     "metadata": {},
     "output_type": "execute_result"
    }
   ],
   "source": [
    "# 3s and 4s in upper quartile\n",
    "5/46"
   ]
  },
  {
   "cell_type": "code",
   "execution_count": 18,
   "metadata": {},
   "outputs": [
    {
     "data": {
      "text/plain": [
       "-0.12907608695652173"
      ]
     },
     "execution_count": 18,
     "metadata": {},
     "output_type": "execute_result"
    }
   ],
   "source": [
    "def meanDifference(data, endOfFirstBin): \n",
    "    shuffle(data)\n",
    "    A = (data[0:endOfFirstBin])\n",
    "    B = (data[endOfFirstBin:])\n",
    "    avg = np.random.normal(A)\n",
    "    np.mean(A)\n",
    "    avg2 = np.random.normal(B)\n",
    "    np.mean(B)\n",
    "    return (np.mean(A) - np.mean(B))\n",
    "C = [1, 1, 1, 1, 1, 1, 1, 1, 1, 1, 1, 1, 1, 1, 1, 1, 1, 1, 1, 1, 1, 1, 1, 1, 1, 1, 1, 1, 1, 1, 1, 1, 0, 0, 0, 0, 0, 0, 0, 0, 0, 0, 0, 0, 0, 0, 0, 0, 0, 0, 0, 0, 0, 0, 0, 0, 0, 0, 0, 0, 0, 0, 0, 0, 0, 0, 0, 0, 0, 0, 0, 0, 0, 0, 0, 0, 0, 0, 0, 0, 0, 0, 0, 0, 0, 0, 0, 0, 0, 0, 0, 0, 0, 0, 0, 0, 1, 1, 1, 1, 1, 0, 0, 0, 0, 0, 0, 0, 0, 0, 0, 0, 0, 0, 0, 0, 0, 0, 0, 0, 0, 0, 0, 0, 0, 0, 0, 0, 0, 0, 0, 0, 0, 0, 0, 0, 0, 0, 0, 0, 0, 0] \n",
    "meanDifference(C, 96)"
   ]
  },
  {
   "cell_type": "code",
   "execution_count": 20,
   "metadata": {},
   "outputs": [
    {
     "name": "stdout",
     "output_type": "stream",
     "text": [
      "Standard Deviation of sample is 0.07925736029992328 \n"
     ]
    }
   ],
   "source": [
    "results3 = [meanDifference(C, 96) for trial in range(10000)]\n",
    "print(\"Standard Deviation of sample is % s \" \n",
    "                % (statistics.stdev(results3)))"
   ]
  },
  {
   "cell_type": "code",
   "execution_count": 24,
   "metadata": {},
   "outputs": [
    {
     "data": {
      "image/png": "[encoded data removed]",
      "text/plain": [
       "<Figure size 432x288 with 1 Axes>"
      ]
     },
     "metadata": {
      "needs_background": "light"
     },
     "output_type": "display_data"
    }
   ],
   "source": [
    "x = results3\n",
    "plt.hist(x, bins=17)\n",
    "plt.ylabel('No of times')\n",
    "plt.xlabel('mean difference')\n",
    "plt.title('# of occurences of each mean difference')\n",
    "plt.show()"
   ]
  },
  {
   "cell_type": "code",
   "execution_count": 28,
   "metadata": {},
   "outputs": [
    {
     "name": "stdout",
     "output_type": "stream",
     "text": [
      "0.2246376811594203\n"
     ]
    }
   ],
   "source": [
    "E = .3333333333333333 - 0.10869565217391304\n",
    "print (E)"
   ]
  },
  {
   "cell_type": "code",
   "execution_count": 30,
   "metadata": {},
   "outputs": [
    {
     "name": "stdout",
     "output_type": "stream",
     "text": [
      "The numbers greater than 0.2246376811594203 : 5\n"
     ]
    }
   ],
   "source": [
    "count = len([i for i in results3 if i > E])\n",
    "print (\"The numbers greater than 0.2246376811594203 : \" + str(count))"
   ]
  },
  {
   "cell_type": "markdown",
   "metadata": {},
   "source": [
    "### CONCLUSION:\n",
    "There are 5 instances out of 10,000 of a simulated mean difference being greater than the real mean difference. Considering .005 is less than any reasonable Alpha value, we have evidence to suggest that the difference between a \"low\" relative humidity and a \"high\" relative humidity is significant for CALQKRVFTWDYDG-UHFFFAOYSA-N, with a low relative humidity leading to better quality crystals."
   ]
  },
  {
   "cell_type": "markdown",
   "metadata": {},
   "source": [
    "# GGYGJCFIYJVWIP-UHFFFAOYSA-N "
   ]
  },
  {
   "cell_type": "code",
   "execution_count": 31,
   "metadata": {},
   "outputs": [
    {
     "data": {
      "text/plain": [
       "0.3793103448275862"
      ]
     },
     "execution_count": 31,
     "metadata": {},
     "output_type": "execute_result"
    }
   ],
   "source": [
    "# 3s and 4s in lower quartile\n",
    "55/145"
   ]
  },
  {
   "cell_type": "code",
   "execution_count": 32,
   "metadata": {},
   "outputs": [
    {
     "data": {
      "text/plain": [
       "0.6383763837638377"
      ]
     },
     "execution_count": 32,
     "metadata": {},
     "output_type": "execute_result"
    }
   ],
   "source": [
    "# 3s and 4s in upper quartile\n",
    "173/271"
   ]
  },
  {
   "cell_type": "code",
   "execution_count": 36,
   "metadata": {},
   "outputs": [],
   "source": [
    "H = [1, 1, 1, 1, 1, 1, 1, 1, 1, 1, 1, 1, 1, 1, 1, 1, 1, 1, 1, 1, 1, 1, 1, 1, 1, 1, 1, 1, 1, 1, 1, 1, 1, 1, 1, 1, 1, 1, 1, 1, 1, 1, 1, 1, 1, 1, 1, 1, 1, 1, 1, 1, 1, 1, 1, 0, 0, 0, 0, 0, 0, 0, 0, 0, 0, 0, 0, 0, 0, 0, 0, 0, 0, 0, 0, 0, 0, 0, 0, 0, 0, 0, 0, 0, 0, 0, 0, 0, 0, 0, 0, 0, 0, 0, 0, 0, 0, 0, 0, 0, 0, 0, 0, 0, 0, 0, 0, 0, 0, 0, 0, 0, 0, 0, 0, 0, 0, 0, 0, 0, 0, 0, 0, 0, 0, 0, 0, 0, 0, 0, 0, 0, 0, 0, 0, 0, 0, 0, 0, 0, 0, 0, 0, 0, 0, 1, 1, 1, 1, 1, 1, 1, 1, 1, 1, 1, 1, 1, 1, 1, 1, 1, 1, 1, 1, 1, 1, 1, 1, 1, 1, 1, 1, 1, 1, 1, 1, 1, 1, 1, 1, 1, 1, 1, 1, 1, 1, 1, 1, 1, 1, 1, 1, 1, 1, 1, 1, 1, 1, 1, 1, 1, 1, 1, 1, 1, 1, 1, 1, 1, 1, 1, 1, 1, 1, 1, 1, 1, 1, 1, 1, 1, 1, 1, 1, 1, 1, 1, 1, 1, 1, 1, 1, 1, 1, 1, 1, 1, 1, 1, 1, 1, 1, 1, 1, 1, 1, 1, 1, 1, 1, 1, 1, 1, 1, 1, 1, 1, 1, 1, 1, 1, 1, 1, 1, 1, 1, 1, 1, 1, 1, 1, 1, 1, 1, 1, 1, 1, 1, 1, 1, 1, 1, 1, 1, 1, 1, 1, 1, 1, 1, 1, 1, 1, 1, 1, 1, 1, 1, 1, 1, 1, 1, 1, 1, 1, 1, 1, 1, 1, 1, 1, 1, 1, 1, 1, 0, 0, 0, 0, 0, 0, 0, 0, 0, 0, 0, 0, 0, 0, 0, 0, 0, 0, 0, 0, 0, 0, 0, 0, 0, 0, 0, 0, 0, 0, 0, 0, 0, 0, 0, 0, 0, 0, 0, 0, 0, 0, 0, 0, 0, 0, 0, 0, 0, 0, 0, 0, 0, 0, 0, 0, 0, 0, 0, 0, 0, 0, 0, 0, 0, 0, 0, 0, 0, 0, 0, 0, 0, 0, 0, 0, 0, 0, 0, 0, 0, 0, 0, 0, 0, 0, 0, 0, 0, 0, 0, 0, 0, 0, 0, 0, 0, 0]"
   ]
  },
  {
   "cell_type": "code",
   "execution_count": 37,
   "metadata": {},
   "outputs": [
    {
     "data": {
      "text/plain": [
       "-0.0016408152800923004"
      ]
     },
     "execution_count": 37,
     "metadata": {},
     "output_type": "execute_result"
    }
   ],
   "source": [
    "def meanDifference(data, endOfFirstBin): \n",
    "    shuffle(data)\n",
    "    F = (data[0:endOfFirstBin])\n",
    "    G = (data[endOfFirstBin:])\n",
    "    avg = np.random.normal(F)\n",
    "    np.mean(F)\n",
    "    avg2 = np.random.normal(G)\n",
    "    np.mean(G)\n",
    "    return (np.mean(F) - np.mean(G))\n",
    "H = [1, 1, 1, 1, 1, 1, 1, 1, 1, 1, 1, 1, 1, 1, 1, 1, 1, 1, 1, 1, 1, 1, 1, 1, 1, 1, 1, 1, 1, 1, 1, 1, 1, 1, 1, 1, 1, 1, 1, 1, 1, 1, 1, 1, 1, 1, 1, 1, 1, 1, 1, 1, 1, 1, 1, 0, 0, 0, 0, 0, 0, 0, 0, 0, 0, 0, 0, 0, 0, 0, 0, 0, 0, 0, 0, 0, 0, 0, 0, 0, 0, 0, 0, 0, 0, 0, 0, 0, 0, 0, 0, 0, 0, 0, 0, 0, 0, 0, 0, 0, 0, 0, 0, 0, 0, 0, 0, 0, 0, 0, 0, 0, 0, 0, 0, 0, 0, 0, 0, 0, 0, 0, 0, 0, 0, 0, 0, 0, 0, 0, 0, 0, 0, 0, 0, 0, 0, 0, 0, 0, 0, 0, 0, 0, 0, 1, 1, 1, 1, 1, 1, 1, 1, 1, 1, 1, 1, 1, 1, 1, 1, 1, 1, 1, 1, 1, 1, 1, 1, 1, 1, 1, 1, 1, 1, 1, 1, 1, 1, 1, 1, 1, 1, 1, 1, 1, 1, 1, 1, 1, 1, 1, 1, 1, 1, 1, 1, 1, 1, 1, 1, 1, 1, 1, 1, 1, 1, 1, 1, 1, 1, 1, 1, 1, 1, 1, 1, 1, 1, 1, 1, 1, 1, 1, 1, 1, 1, 1, 1, 1, 1, 1, 1, 1, 1, 1, 1, 1, 1, 1, 1, 1, 1, 1, 1, 1, 1, 1, 1, 1, 1, 1, 1, 1, 1, 1, 1, 1, 1, 1, 1, 1, 1, 1, 1, 1, 1, 1, 1, 1, 1, 1, 1, 1, 1, 1, 1, 1, 1, 1, 1, 1, 1, 1, 1, 1, 1, 1, 1, 1, 1, 1, 1, 1, 1, 1, 1, 1, 1, 1, 1, 1, 1, 1, 1, 1, 1, 1, 1, 1, 1, 1, 1, 1, 1, 1, 0, 0, 0, 0, 0, 0, 0, 0, 0, 0, 0, 0, 0, 0, 0, 0, 0, 0, 0, 0, 0, 0, 0, 0, 0, 0, 0, 0, 0, 0, 0, 0, 0, 0, 0, 0, 0, 0, 0, 0, 0, 0, 0, 0, 0, 0, 0, 0, 0, 0, 0, 0, 0, 0, 0, 0, 0, 0, 0, 0, 0, 0, 0, 0, 0, 0, 0, 0, 0, 0, 0, 0, 0, 0, 0, 0, 0, 0, 0, 0, 0, 0, 0, 0, 0, 0, 0, 0, 0, 0, 0, 0, 0, 0, 0, 0, 0, 0]\n",
    "meanDifference(H, 145)"
   ]
  },
  {
   "cell_type": "code",
   "execution_count": 38,
   "metadata": {},
   "outputs": [
    {
     "name": "stdout",
     "output_type": "stream",
     "text": [
      "Standard Deviation of sample is 0.049777098799708666 \n"
     ]
    }
   ],
   "source": [
    "results4 = [meanDifference(H, 155) for trial in range(10000)]\n",
    "print(\"Standard Deviation of sample is % s \" \n",
    "                % (statistics.stdev(results4)))"
   ]
  },
  {
   "cell_type": "code",
   "execution_count": 41,
   "metadata": {},
   "outputs": [
    {
     "data": {
      "image/png": "[encoded data removed]",
      "text/plain": [
       "<Figure size 432x288 with 1 Axes>"
      ]
     },
     "metadata": {
      "needs_background": "light"
     },
     "output_type": "display_data"
    }
   ],
   "source": [
    "x = results4\n",
    "plt.hist(x, bins=17)\n",
    "plt.ylabel('No of times')\n",
    "plt.xlabel('mean difference')\n",
    "plt.title('# of occurences of each mean difference')\n",
    "plt.show()"
   ]
  },
  {
   "cell_type": "code",
   "execution_count": 42,
   "metadata": {},
   "outputs": [
    {
     "name": "stdout",
     "output_type": "stream",
     "text": [
      "0.25906603893625146\n"
     ]
    }
   ],
   "source": [
    "I = 0.6383763837638377 - 0.3793103448275862\n",
    "print (I)"
   ]
  },
  {
   "cell_type": "code",
   "execution_count": 65,
   "metadata": {},
   "outputs": [
    {
     "name": "stdout",
     "output_type": "stream",
     "text": [
      "The numbers greater than 0.25906603893625146 : 0\n"
     ]
    }
   ],
   "source": [
    "count = len([i for i in results4 if i > I])\n",
    "print (\"The numbers greater than 0.25906603893625146 : \" + str(count))"
   ]
  },
  {
   "cell_type": "markdown",
   "metadata": {},
   "source": [
    "### CONCLUSION:\n",
    "There are 0 instances out of 10,000 of a simulated mean difference being greater than the real mean difference. Considering 0 is less than any reasonable Alpha value, we have evidence to suggest that the difference between a \"low\" relative humidity and a \"high\" relative humidity is significant forGGYGJCFIYJVWIP-UHFFFAOYSA-N, with a high relative humidity leading to better quality crystals."
   ]
  },
  {
   "cell_type": "markdown",
   "metadata": {},
   "source": [
    "# VMLAEGAAHIIWJX-UHFFFAOYSA-N"
   ]
  },
  {
   "cell_type": "code",
   "execution_count": 45,
   "metadata": {},
   "outputs": [
    {
     "data": {
      "text/plain": [
       "0.0625"
      ]
     },
     "execution_count": 45,
     "metadata": {},
     "output_type": "execute_result"
    }
   ],
   "source": [
    "# 3s and 4s in lower quartile\n",
    "6/96"
   ]
  },
  {
   "cell_type": "code",
   "execution_count": 46,
   "metadata": {},
   "outputs": [
    {
     "data": {
      "text/plain": [
       "0.2553191489361702"
      ]
     },
     "execution_count": 46,
     "metadata": {},
     "output_type": "execute_result"
    }
   ],
   "source": [
    "# 3s and 4s in upper quartile\n",
    "12/47"
   ]
  },
  {
   "cell_type": "code",
   "execution_count": 49,
   "metadata": {},
   "outputs": [
    {
     "data": {
      "text/plain": [
       "0.09242021276595745"
      ]
     },
     "execution_count": 49,
     "metadata": {},
     "output_type": "execute_result"
    }
   ],
   "source": [
    "def meanDifference(data, endOfFirstBin): \n",
    "    shuffle(data)\n",
    "    J = (data[0:endOfFirstBin])\n",
    "    K = (data[endOfFirstBin:])\n",
    "    avg = np.random.normal(J)\n",
    "    np.mean(J)\n",
    "    avg2 = np.random.normal(K)\n",
    "    np.mean(K)\n",
    "    return (np.mean(J) - np.mean(K))\n",
    "L = [1, 1, 1, 1, 1, 1, 0, 0, 0, 0, 0, 0, 0, 0, 0, 0, 0, 0, 0, 0, 0, 0, 0, 0, 0, 0, 0, 0, 0, 0, 0, 0, 0, 0, 0, 0, 0, 0, 0, 0, 0, 0, 0, 0, 0, 0, 0, 0, 0, 0, 0, 0, 0, 0, 0, 0, 0, 0, 0, 0, 0, 0, 0, 0, 0, 0, 0, 0, 0, 0, 0, 0, 0, 0, 0, 0, 0, 0, 0, 0, 0, 0, 0, 0, 0, 0, 0, 0, 0, 0, 0, 0, 0, 0, 0, 0, 1, 1, 1, 1, 1, 1, 1, 1, 1, 1, 1, 1, 0, 0, 0, 0, 0, 0, 0, 0, 0, 0, 0, 0, 0, 0, 0, 0, 0, 0, 0, 0, 0, 0, 0, 0, 0, 0, 0, 0, 0, 0, 0, 0, 0, 0, 0]\n",
    "meanDifference(L, 96)"
   ]
  },
  {
   "cell_type": "code",
   "execution_count": 50,
   "metadata": {},
   "outputs": [
    {
     "name": "stdout",
     "output_type": "stream",
     "text": [
      "Standard Deviation of sample is 0.058906184519971996 \n"
     ]
    }
   ],
   "source": [
    "results5 = [meanDifference(L, 96) for trial in range(10000)]\n",
    "print(\"Standard Deviation of sample is % s \" \n",
    "                % (statistics.stdev(results5)))"
   ]
  },
  {
   "cell_type": "code",
   "execution_count": 60,
   "metadata": {},
   "outputs": [
    {
     "data": {
      "image/png": "[encoded data removed]",
      "text/plain": [
       "<Figure size 432x288 with 1 Axes>"
      ]
     },
     "metadata": {
      "needs_background": "light"
     },
     "output_type": "display_data"
    }
   ],
   "source": [
    "x = results5\n",
    "plt.hist(x, bins=14)\n",
    "plt.ylabel('No of times')\n",
    "plt.xlabel('mean difference')\n",
    "plt.title('# of occurences of each mean difference')\n",
    "plt.show()"
   ]
  },
  {
   "cell_type": "code",
   "execution_count": 61,
   "metadata": {},
   "outputs": [
    {
     "name": "stdout",
     "output_type": "stream",
     "text": [
      "0.1928191489361702\n"
     ]
    }
   ],
   "source": [
    "M = 0.2553191489361702 - 0.0625\n",
    "print(M)"
   ]
  },
  {
   "cell_type": "code",
   "execution_count": 71,
   "metadata": {},
   "outputs": [
    {
     "name": "stdout",
     "output_type": "stream",
     "text": [
      "The numbers greater than 0.1928191489361702 : 0\n"
     ]
    }
   ],
   "source": [
    "count = len([i for i in results5 if i > M])\n",
    "print (\"The numbers greater than 0.1928191489361702 : \" + str(count))"
   ]
  },
  {
   "cell_type": "markdown",
   "metadata": {},
   "source": [
    "### CONCLUSION:\n",
    "There are 0 instances out of 10,000 of a simulated mean difference being greater than the real mean difference. Considering 0 is less than any reasonable Alpha value, we have evidence to suggest that the difference between a \"low\" relative humidity and a \"high\" relative humidity is significant for VMLAEGAAHIIWJX-UHFFFAOYSA-N, with a high relative humidity leading to better quality crystals.\n"
   ]
  },
  {
   "cell_type": "markdown",
   "metadata": {},
   "source": [
    "# FCTHQYIDLRRROX-UHFFFAOYSA-N"
   ]
  },
  {
   "cell_type": "code",
   "execution_count": 80,
   "metadata": {},
   "outputs": [
    {
     "name": "stdout",
     "output_type": "stream",
     "text": [
      "[] [0, 0, 0, 0, 0, 0, 0, 0, 0, 0, 0, 0, 0, 0, 0, 0, 0, 0, 0, 0, 0, 0, 0, 0, 0, 0, 0, 0, 0, 0, 0, 0, 0, 0, 0, 0, 0, 0, 0, 0, 0, 0, 0, 0, 0, 0, 0, 0, 0, 0, 0, 0, 0, 0, 0, 0, 0, 0, 0, 0, 0, 0, 0, 0, 0, 0, 0, 0, 0, 0, 0, 0, 0, 0, 0, 0, 0, 0, 0, 0, 0, 0, 0, 0, 0, 0, 0, 0, 0, 0, 0, 0, 0, 0, 0, 0] [1, 1, 1] [0, 0, 0, 0, 0, 0, 0, 0, 0, 0, 0, 0, 0, 0, 0, 0, 0, 0, 0, 0, 0, 0, 0, 0, 0, 0, 0, 0, 0, 0, 0, 0, 0, 0, 0, 0, 0, 0, 0, 0, 0, 0, 0, 0, 0, 0, 0, 0, 0, 0, 0, 0, 0, 0, 0, 0, 0, 0, 0, 0, 0, 0, 0, 0, 0, 0, 0, 0, 0, 0, 0, 0, 0, 0, 0, 0, 0, 0, 0, 0, 0, 0, 0, 0, 0, 0, 0, 0, 0, 0, 0]\n"
     ]
    }
   ],
   "source": [
    "my_list = [1]\n",
    "my_list2 = [0]\n",
    "my_list3 = [1]\n",
    "my_list4 = [0]\n",
    "n = 0\n",
    "n2 = 96\n",
    "n3 = 3 \n",
    "n4 = 91\n",
    "print(my_list * n, my_list2 * n2, my_list3 * n3, my_list4 * n4) #to generate the necessary 1s and 0s for significance test"
   ]
  },
  {
   "cell_type": "code",
   "execution_count": 5,
   "metadata": {},
   "outputs": [
    {
     "data": {
      "text/plain": [
       "0.5212765957446809"
      ]
     },
     "execution_count": 5,
     "metadata": {},
     "output_type": "execute_result"
    }
   ],
   "source": [
    "# 3s and 4s in lower quartile\n",
    "49/94"
   ]
  },
  {
   "cell_type": "code",
   "execution_count": 6,
   "metadata": {},
   "outputs": [
    {
     "data": {
      "text/plain": [
       "0.6"
      ]
     },
     "execution_count": 6,
     "metadata": {},
     "output_type": "execute_result"
    }
   ],
   "source": [
    "# 3s and 4s in upper quartile\n",
    "54/90"
   ]
  },
  {
   "cell_type": "code",
   "execution_count": 8,
   "metadata": {},
   "outputs": [
    {
     "data": {
      "text/plain": [
       "0.008274231678486954"
      ]
     },
     "execution_count": 8,
     "metadata": {},
     "output_type": "execute_result"
    }
   ],
   "source": [
    "def meanDifference(data, endOfFirstBin): \n",
    "    shuffle(data)\n",
    "    N = (data[0:endOfFirstBin])\n",
    "    O = (data[endOfFirstBin:])\n",
    "    avg = np.random.normal(N)\n",
    "    np.mean(N)\n",
    "    avg2 = np.random.normal(O)\n",
    "    np.mean(O)\n",
    "    return (np.mean(N) - np.mean(O))\n",
    "P = [1, 1, 1, 1, 1, 1, 1, 1, 1, 1, 1, 1, 1, 1, 1, 1, 1, 1, 1, 1, 1, 1, 1, 1, 1, 1, 1, 1, 1, 1, 1, 1, 1, 1, 1, 1, 1, 1, 1, 1, 1, 1, 1, 1, 1, 1, 1, 1, 1, 0, 0, 0, 0, 0, 0, 0, 0, 0, 0, 0, 0, 0, 0, 0, 0, 0, 0, 0, 0, 0, 0, 0, 0, 0, 0, 0, 0, 0, 0, 0, 0, 0, 0, 0, 0, 0, 0, 0, 0, 0, 0, 0, 0, 0, 1, 1, 1, 1, 1, 1, 1, 1, 1, 1, 1, 1, 1, 1, 1, 1, 1, 1, 1, 1, 1, 1, 1, 1, 1, 1, 1, 1, 1, 1, 1, 1, 1, 1, 1, 1, 1, 1, 1, 1, 1, 1, 1, 1, 1, 1, 1, 1, 1, 1, 1, 1, 1, 1, 0, 0, 0, 0, 0, 0, 0, 0, 0, 0, 0, 0, 0, 0, 0, 0, 0, 0, 0, 0, 0, 0, 0, 0, 0, 0, 0, 0, 0, 0, 0, 0, 0, 0, 0, 0]\n",
    "meanDifference(P, 94)"
   ]
  },
  {
   "cell_type": "code",
   "execution_count": 10,
   "metadata": {},
   "outputs": [
    {
     "name": "stdout",
     "output_type": "stream",
     "text": [
      "Standard Deviation of sample is 0.07338177708535795 \n"
     ]
    }
   ],
   "source": [
    "results6 = [meanDifference(P, 94) for trial in range(10000)]\n",
    "print(\"Standard Deviation of sample is % s \" \n",
    "                % (statistics.stdev(results6)))"
   ]
  },
  {
   "cell_type": "code",
   "execution_count": 17,
   "metadata": {},
   "outputs": [
    {
     "data": {
      "image/png": "[encoded data removed]",
      "text/plain": [
       "<Figure size 432x288 with 1 Axes>"
      ]
     },
     "metadata": {
      "needs_background": "light"
     },
     "output_type": "display_data"
    }
   ],
   "source": [
    "x = results6\n",
    "plt.hist(x, bins=23)\n",
    "plt.ylabel('No of times')\n",
    "plt.xlabel('mean difference')\n",
    "plt.title('# of occurences of each mean difference')\n",
    "plt.show()"
   ]
  },
  {
   "cell_type": "code",
   "execution_count": 18,
   "metadata": {},
   "outputs": [
    {
     "name": "stdout",
     "output_type": "stream",
     "text": [
      "0.0787234042553191\n"
     ]
    }
   ],
   "source": [
    "Q = 0.6 - 0.5212765957446809\n",
    "print(Q)"
   ]
  },
  {
   "cell_type": "code",
   "execution_count": 22,
   "metadata": {},
   "outputs": [
    {
     "name": "stdout",
     "output_type": "stream",
     "text": [
      "The numbers greater than 0.0787234042553191 : 1246\n"
     ]
    }
   ],
   "source": [
    "count = len([i for i in results6 if i > Q])\n",
    "print (\"The numbers greater than 0.0787234042553191 : \" + str(count))"
   ]
  },
  {
   "cell_type": "markdown",
   "metadata": {},
   "source": [
    "### CONCLUSION:\n",
    "There are 1246 instances out of 10,000 of a simulated mean difference being greater than the real mean difference. Considering .1246 is greater than any reasonable Alpha value, we have evidence to suggest that there is no difference between a \"low\" relative humidity and a \"high\" relative humidity for FCTHQYIDLRRROX-UHFFFAOYSA-N, with no definitive relative humidity leading to better quality crystals."
   ]
  },
  {
   "cell_type": "markdown",
   "metadata": {},
   "source": [
    "# PXWSKGXEHZHFJA-UHFFFAOYSA-N"
   ]
  },
  {
   "cell_type": "code",
   "execution_count": 25,
   "metadata": {},
   "outputs": [
    {
     "data": {
      "text/plain": [
       "0.010638297872340425"
      ]
     },
     "execution_count": 25,
     "metadata": {},
     "output_type": "execute_result"
    }
   ],
   "source": [
    "# 3s and 4s for lower quartile\n",
    "1/94\n"
   ]
  },
  {
   "cell_type": "code",
   "execution_count": 26,
   "metadata": {},
   "outputs": [
    {
     "data": {
      "text/plain": [
       "0.020833333333333332"
      ]
     },
     "execution_count": 26,
     "metadata": {},
     "output_type": "execute_result"
    }
   ],
   "source": [
    "#3s and 4s for upper quartile\n",
    "1/48"
   ]
  },
  {
   "cell_type": "code",
   "execution_count": 28,
   "metadata": {},
   "outputs": [
    {
     "data": {
      "text/plain": [
       "-0.010195035460992907"
      ]
     },
     "execution_count": 28,
     "metadata": {},
     "output_type": "execute_result"
    }
   ],
   "source": [
    "def meanDifference(data, endOfFirstBin): \n",
    "    shuffle(data)\n",
    "    R = (data[0:endOfFirstBin])\n",
    "    S = (data[endOfFirstBin:])\n",
    "    avg = np.random.normal(R)\n",
    "    np.mean(R)\n",
    "    avg2 = np.random.normal(S)\n",
    "    np.mean(S)\n",
    "    return (np.mean(R) - np.mean(S))\n",
    "T = [1, 0, 0, 0, 0, 0, 0, 0, 0, 0, 0, 0, 0, 0, 0, 0, 0, 0, 0, 0, 0, 0, 0, 0, 0, 0, 0, 0, 0, 0, 0, 0, 0, 0, 0, 0, 0, 0, 0, 0, 0, 0, 0, 0, 0, 0, 0, 0, 0, 0, 0, 0, 0, 0, 0, 0, 0, 0, 0, 0, 0, 0, 0, 0, 0, 0, 0, 0, 0, 0, 0, 0, 0, 0, 0, 0, 0, 0, 0, 0, 0, 0, 0, 0, 0, 0, 0, 0, 0, 0, 0, 0, 0, 0, 1, 0, 0, 0, 0, 0, 0, 0, 0, 0, 0, 0, 0, 0, 0, 0, 0, 0, 0, 0, 0, 0, 0, 0, 0, 0, 0, 0, 0, 0, 0, 0, 0, 0, 0, 0, 0, 0, 0, 0, 0, 0, 0, 0, 0, 0, 0, 0]\n",
    "meanDifference(T, 94)"
   ]
  },
  {
   "cell_type": "code",
   "execution_count": 29,
   "metadata": {},
   "outputs": [
    {
     "name": "stdout",
     "output_type": "stream",
     "text": [
      "Standard Deviation of sample is 0.02101797472368959 \n"
     ]
    }
   ],
   "source": [
    "results7 = [meanDifference(T, 94) for trial in range(10000)]\n",
    "print(\"Standard Deviation of sample is % s \" \n",
    "                % (statistics.stdev(results7)))"
   ]
  },
  {
   "cell_type": "code",
   "execution_count": 36,
   "metadata": {},
   "outputs": [
    {
     "data": {
      "image/png": "[encoded data removed]",
      "text/plain": [
       "<Figure size 432x288 with 1 Axes>"
      ]
     },
     "metadata": {
      "needs_background": "light"
     },
     "output_type": "display_data"
    }
   ],
   "source": [
    "x = results7\n",
    "plt.hist(x, bins=7)\n",
    "plt.ylabel('No of times')\n",
    "plt.xlabel('mean difference')\n",
    "plt.title('# of occurences of each mean difference')\n",
    "plt.show()"
   ]
  },
  {
   "cell_type": "code",
   "execution_count": 38,
   "metadata": {},
   "outputs": [
    {
     "name": "stdout",
     "output_type": "stream",
     "text": [
      "0.010195035460992907\n"
     ]
    }
   ],
   "source": [
    "U = 0.020833333333333332 - 0.010638297872340425\n",
    "print(U)"
   ]
  },
  {
   "cell_type": "code",
   "execution_count": 41,
   "metadata": {},
   "outputs": [
    {
     "name": "stdout",
     "output_type": "stream",
     "text": [
      "The numbers greater than 0.010195035460992907 : 4341\n"
     ]
    }
   ],
   "source": [
    "count = len([i for i in results7 if i > U])\n",
    "print (\"The numbers greater than 0.010195035460992907 : \" + str(count))"
   ]
  },
  {
   "cell_type": "markdown",
   "metadata": {},
   "source": [
    "### CONCLUSION:\n",
    "There are 4341 instances out of 10,000 of a simulated mean difference being greater than the real mean difference. Considering .4341 is greater than any reasonable Alpha value, we have evidence to suggest that there is no difference between a \"low\" relative humidity and a \"high\" relative humidity for PXWSKGXEHZHFJA-UHFFFAOYSA-N, with no definitive relative humidity leading to better quality crystals."
   ]
  },
  {
   "cell_type": "markdown",
   "metadata": {},
   "source": [
    "# DMFMZFFIQRMJQZ-UHFFFAOYSA-N"
   ]
  },
  {
   "cell_type": "code",
   "execution_count": 42,
   "metadata": {},
   "outputs": [
    {
     "data": {
      "text/plain": [
       "0.08333333333333333"
      ]
     },
     "execution_count": 42,
     "metadata": {},
     "output_type": "execute_result"
    }
   ],
   "source": [
    "# 3s and 4s in lower quartile\n",
    "16/192"
   ]
  },
  {
   "cell_type": "code",
   "execution_count": 43,
   "metadata": {},
   "outputs": [
    {
     "data": {
      "text/plain": [
       "0.3763440860215054"
      ]
     },
     "execution_count": 43,
     "metadata": {},
     "output_type": "execute_result"
    }
   ],
   "source": [
    "# 3s and 4s in upper quartile\n",
    "35/93"
   ]
  },
  {
   "cell_type": "code",
   "execution_count": 45,
   "metadata": {},
   "outputs": [
    {
     "data": {
      "text/plain": [
       "0.010248655913978472"
      ]
     },
     "execution_count": 45,
     "metadata": {},
     "output_type": "execute_result"
    }
   ],
   "source": [
    "def meanDifference(data, endOfFirstBin): \n",
    "    shuffle(data)\n",
    "    V = (data[0:endOfFirstBin])\n",
    "    W = (data[endOfFirstBin:])\n",
    "    avg = np.random.normal(V)\n",
    "    np.mean(V)\n",
    "    avg2 = np.random.normal(W)\n",
    "    np.mean(W)\n",
    "    return (np.mean(V) - np.mean(W))\n",
    "X = [1, 1, 1, 1, 1, 1, 1, 1, 1, 1, 1, 1, 1, 1, 1, 1, 0, 0, 0, 0, 0, 0, 0, 0, 0, 0, 0, 0, 0, 0, 0, 0, 0, 0, 0, 0, 0, 0, 0, 0, 0, 0, 0, 0, 0, 0, 0, 0, 0, 0, 0, 0, 0, 0, 0, 0, 0, 0, 0, 0, 0, 0, 0, 0, 0, 0, 0, 0, 0, 0, 0, 0, 0, 0, 0, 0, 0, 0, 0, 0, 0, 0, 0, 0, 0, 0, 0, 0, 0, 0, 0, 0, 0, 0, 0, 0, 0, 0, 0, 0, 0, 0, 0, 0, 0, 0, 0, 0, 0, 0, 0, 0, 0, 0, 0, 0, 0, 0, 0, 0, 0, 0, 0, 0, 0, 0, 0, 0, 0, 0, 0, 0, 0, 0, 0, 0, 0, 0, 0, 0, 0, 0, 0, 0, 0, 0, 0, 0, 0, 0, 0, 0, 0, 0, 0, 0, 0, 0, 0, 0, 0, 0, 0, 0, 0, 0, 0, 0, 0, 0, 0, 0, 0, 0, 0, 0, 0, 0, 0, 0, 0, 0, 0, 0, 0, 0, 0, 0, 0, 0, 0, 0, 1, 1, 1, 1, 1, 1, 1, 1, 1, 1, 1, 1, 1, 1, 1, 1, 1, 1, 1, 1, 1, 1, 1, 1, 1, 1, 1, 1, 1, 1, 1, 1, 1, 1, 1, 0, 0, 0, 0, 0, 0, 0, 0, 0, 0, 0, 0, 0, 0, 0, 0, 0, 0, 0, 0, 0, 0, 0, 0, 0, 0, 0, 0, 0, 0, 0, 0, 0, 0, 0, 0, 0, 0, 0, 0, 0, 0, 0, 0, 0, 0, 0, 0, 0, 0, 0, 0, 0, 0, 0, 0, 0, 0]\n",
    "meanDifference(X, 192)"
   ]
  },
  {
   "cell_type": "code",
   "execution_count": 46,
   "metadata": {},
   "outputs": [
    {
     "name": "stdout",
     "output_type": "stream",
     "text": [
      "Standard Deviation of sample is 0.048727081642446136 \n"
     ]
    }
   ],
   "source": [
    "results8 = [meanDifference(X, 192) for trial in range(10000)]\n",
    "print(\"Standard Deviation of sample is % s \" \n",
    "                % (statistics.stdev(results8)))"
   ]
  },
  {
   "cell_type": "code",
   "execution_count": 49,
   "metadata": {},
   "outputs": [
    {
     "data": {
      "image/png": "[encoded data removed]",
      "text/plain": [
       "<Figure size 432x288 with 1 Axes>"
      ]
     },
     "metadata": {
      "needs_background": "light"
     },
     "output_type": "display_data"
    }
   ],
   "source": [
    "x = results8\n",
    "plt.hist(x, bins=24)\n",
    "plt.ylabel('No of times')\n",
    "plt.xlabel('mean difference')\n",
    "plt.title('# of occurences of each mean difference')\n",
    "plt.show()"
   ]
  },
  {
   "cell_type": "code",
   "execution_count": 51,
   "metadata": {},
   "outputs": [
    {
     "name": "stdout",
     "output_type": "stream",
     "text": [
      "0.29301075268817206\n"
     ]
    }
   ],
   "source": [
    "Y = 0.3763440860215054-0.08333333333333333\n",
    "print(Y)"
   ]
  },
  {
   "cell_type": "code",
   "execution_count": 66,
   "metadata": {},
   "outputs": [
    {
     "name": "stdout",
     "output_type": "stream",
     "text": [
      "The numbers greater than 0.29301075268817206: 0\n"
     ]
    }
   ],
   "source": [
    "count = len([i for i in results8 if i > Y])\n",
    "print (\"The numbers greater than 0.29301075268817206: \" + str(count))"
   ]
  },
  {
   "cell_type": "markdown",
   "metadata": {},
   "source": [
    "### CONCLUSION:\n",
    "There are 0 instances out of 10,000 of a simulated mean difference being greater than the real mean difference. Considering 0 is less than any reasonable Alpha value, we have evidence to suggest that the difference between a \"low\" relative humidity and a \"high\" relative humidity is significant for DMFMZFFIQRMJQZ-UHFFFAOYSA-N, with a higher relative humidity leading to better quality crystals."
   ]
  },
  {
   "cell_type": "markdown",
   "metadata": {},
   "source": [
    "# QRFXELVDJSDWHX-UHFFFAOYSA-N"
   ]
  },
  {
   "cell_type": "code",
   "execution_count": 54,
   "metadata": {},
   "outputs": [
    {
     "data": {
      "text/plain": [
       "0.1276595744680851"
      ]
     },
     "execution_count": 54,
     "metadata": {},
     "output_type": "execute_result"
    }
   ],
   "source": [
    "# 3s and 4s in lower quartile\n",
    "12/94"
   ]
  },
  {
   "cell_type": "code",
   "execution_count": 55,
   "metadata": {},
   "outputs": [
    {
     "data": {
      "text/plain": [
       "0.8222222222222222"
      ]
     },
     "execution_count": 55,
     "metadata": {},
     "output_type": "execute_result"
    }
   ],
   "source": [
    "# 3s and 4s in upper quartils\n",
    "37/45\n",
    "\n"
   ]
  },
  {
   "cell_type": "code",
   "execution_count": 58,
   "metadata": {},
   "outputs": [
    {
     "data": {
      "text/plain": [
       "0.028368794326241176"
      ]
     },
     "execution_count": 58,
     "metadata": {},
     "output_type": "execute_result"
    }
   ],
   "source": [
    "def meanDifference(data, endOfFirstBin): \n",
    "    shuffle(data)\n",
    "    Z = (data[0:endOfFirstBin])\n",
    "    a = (data[endOfFirstBin:])\n",
    "    avg = np.random.normal(Z)\n",
    "    np.mean(Z)\n",
    "    avg2 = np.random.normal(a)\n",
    "    np.mean(a)\n",
    "    return (np.mean(Z) - np.mean(a))\n",
    "b = [1, 1, 1, 1, 1, 1, 1, 1, 1, 1, 1, 1, 0, 0, 0, 0, 0, 0, 0, 0, 0, 0, 0, 0, 0, 0, 0, 0, 0, 0, 0, 0, 0, 0, 0, 0, 0, 0, 0, 0, 0, 0, 0, 0, 0, 0, 0, 0, 0, 0, 0, 0, 0, 0, 0, 0, 0, 0, 0, 0, 0, 0, 0, 0, 0, 0, 0, 0, 0, 0, 0, 0, 0, 0, 0, 0, 0, 0, 0, 0, 0, 0, 0, 0, 0, 0, 0, 0, 0, 0, 0, 0, 0, 0, 1, 1, 1, 1, 1, 1, 1, 1, 1, 1, 1, 1, 1, 1, 1, 1, 1, 1, 1, 1, 1, 1, 1, 1, 1, 1, 1, 1, 1, 1, 1, 1, 1, 1, 1, 1, 1, 0, 0, 0, 0, 0, 0, 0, 0]\n",
    "meanDifference(b, 94)"
   ]
  },
  {
   "cell_type": "code",
   "execution_count": 59,
   "metadata": {},
   "outputs": [
    {
     "name": "stdout",
     "output_type": "stream",
     "text": [
      "Standard Deviation of sample is 0.08614901806331103 \n"
     ]
    }
   ],
   "source": [
    "results9 = [meanDifference(b, 94) for trial in range(10000)]\n",
    "print(\"Standard Deviation of sample is % s \" \n",
    "                % (statistics.stdev(results9)))"
   ]
  },
  {
   "cell_type": "code",
   "execution_count": 63,
   "metadata": {},
   "outputs": [
    {
     "data": {
      "image/png": "[encoded data removed]",
      "text/plain": [
       "<Figure size 432x288 with 1 Axes>"
      ]
     },
     "metadata": {
      "needs_background": "light"
     },
     "output_type": "display_data"
    }
   ],
   "source": [
    "x = results9\n",
    "plt.hist(x, bins=20)\n",
    "plt.ylabel('No of times')\n",
    "plt.xlabel('mean difference')\n",
    "plt.title('# of occurences of each mean difference')\n",
    "plt.show()"
   ]
  },
  {
   "cell_type": "code",
   "execution_count": 64,
   "metadata": {},
   "outputs": [
    {
     "name": "stdout",
     "output_type": "stream",
     "text": [
      "0.6945626477541149\n"
     ]
    }
   ],
   "source": [
    "c = 0.8222222222222-0.1276595744680851\n",
    "print(c)"
   ]
  },
  {
   "cell_type": "code",
   "execution_count": 65,
   "metadata": {},
   "outputs": [
    {
     "name": "stdout",
     "output_type": "stream",
     "text": [
      "The numbers greater than 0.6945626477541149: 0\n"
     ]
    }
   ],
   "source": [
    "count = len([i for i in results9 if i > c])\n",
    "print (\"The numbers greater than 0.6945626477541149: \" + str(count))"
   ]
  },
  {
   "cell_type": "markdown",
   "metadata": {},
   "source": [
    "### CONCLUSION:\n",
    "There are 0 instances out of 10,000 of a simulated mean difference being greater than the real mean difference. Considering 0 is less than any reasonable Alpha value, we have evidence to suggest that the difference between a \"low\" relative humidity and a \"high\" relative humidity is significant for QRFXELVDJSDWHX-UHFFFAOYSA-N, with a higher relative humidity leading to better quality crystals."
   ]
  },
  {
   "cell_type": "markdown",
   "metadata": {},
   "source": [
    "# UMDDLGMCNFAZDX-UHFFFAOYSA-O"
   ]
  },
  {
   "cell_type": "code",
   "execution_count": 67,
   "metadata": {},
   "outputs": [
    {
     "data": {
      "text/plain": [
       "0.2222222222222222"
      ]
     },
     "execution_count": 67,
     "metadata": {},
     "output_type": "execute_result"
    }
   ],
   "source": [
    "# 3s and 4s in lower quartile\n",
    "18/81"
   ]
  },
  {
   "cell_type": "code",
   "execution_count": 68,
   "metadata": {},
   "outputs": [
    {
     "data": {
      "text/plain": [
       "0.574468085106383"
      ]
     },
     "execution_count": 68,
     "metadata": {},
     "output_type": "execute_result"
    }
   ],
   "source": [
    "#3s and 4s in upper quartile\n",
    "54/94"
   ]
  },
  {
   "cell_type": "code",
   "execution_count": 70,
   "metadata": {},
   "outputs": [
    {
     "data": {
      "text/plain": [
       "-0.12411347517730498"
      ]
     },
     "execution_count": 70,
     "metadata": {},
     "output_type": "execute_result"
    }
   ],
   "source": [
    "def meanDifference(data, endOfFirstBin): \n",
    "    shuffle(data)\n",
    "    d = (data[0:endOfFirstBin])\n",
    "    e = (data[endOfFirstBin:])\n",
    "    avg = np.random.normal(d)\n",
    "    np.mean(d)\n",
    "    avg2 = np.random.normal(e)\n",
    "    np.mean(e)\n",
    "    return (np.mean(d) - np.mean(e))\n",
    "f = [1, 1, 1, 1, 1, 1, 1, 1, 1, 1, 1, 1, 1, 1, 1, 1, 0, 0, 0, 0, 0, 0, 0, 0, 0, 0, 0, 0, 0, 0, 0, 0, 0, 0, 0, 0, 0, 0, 0, 0, 0, 0, 0, 0, 0, 0, 0, 0, 0, 0, 0, 0, 0, 0, 0, 0, 0, 0, 0, 0, 0, 0, 0, 0, 0, 0, 0, 0, 0, 0, 0, 0, 0, 0, 0, 0, 0, 0, 0, 0, 0, 1, 1, 1, 1, 1, 1, 1, 1, 1, 1, 1, 1, 1, 1, 1, 1, 1, 1, 1, 1, 1, 1, 1, 1, 1, 1, 1, 1, 1, 1, 1, 1, 1, 1, 1, 1, 1, 1, 1, 1, 1, 1, 1, 1, 1, 1, 1, 1, 1, 1, 1, 1, 1, 1, 0, 0, 0, 0, 0, 0, 0, 0, 0, 0, 0, 0, 0, 0, 0, 0, 0, 0, 0, 0, 0, 0, 0, 0, 0, 0, 0, 0, 0, 0, 0, 0, 0, 0, 0, 0, 0, 0, 0, 0]\n",
    "meanDifference(f, 81)"
   ]
  },
  {
   "cell_type": "code",
   "execution_count": 71,
   "metadata": {},
   "outputs": [
    {
     "name": "stdout",
     "output_type": "stream",
     "text": [
      "Standard Deviation of sample is 0.08180595862780836 \n"
     ]
    }
   ],
   "source": [
    "results10 = [meanDifference(b, 81) for trial in range(10000)]\n",
    "print(\"Standard Deviation of sample is % s \" \n",
    "                % (statistics.stdev(results10)))"
   ]
  },
  {
   "cell_type": "code",
   "execution_count": 75,
   "metadata": {},
   "outputs": [
    {
     "data": {
      "image/png": "[encoded data removed]",
      "text/plain": [
       "<Figure size 432x288 with 1 Axes>"
      ]
     },
     "metadata": {
      "needs_background": "light"
     },
     "output_type": "display_data"
    }
   ],
   "source": [
    "x = results10\n",
    "plt.hist(x, bins=24)\n",
    "plt.ylabel('No of times')\n",
    "plt.xlabel('mean difference')\n",
    "plt.title('# of occurences of each mean difference')\n",
    "plt.show()"
   ]
  },
  {
   "cell_type": "code",
   "execution_count": 76,
   "metadata": {},
   "outputs": [
    {
     "name": "stdout",
     "output_type": "stream",
     "text": [
      "0.3522458628841608\n"
     ]
    }
   ],
   "source": [
    "g = 0.574468085106383-0.2222222222222222\n",
    "print(g)"
   ]
  },
  {
   "cell_type": "code",
   "execution_count": 77,
   "metadata": {},
   "outputs": [
    {
     "name": "stdout",
     "output_type": "stream",
     "text": [
      "The numbers greater than 0.3522458628841608: 1\n"
     ]
    }
   ],
   "source": [
    "count = len([i for i in results10 if i > g])\n",
    "print (\"The numbers greater than 0.3522458628841608: \" + str(count))"
   ]
  },
  {
   "cell_type": "markdown",
   "metadata": {},
   "source": [
    "### CONCLUSION:\n",
    "There is 1 instance out of 10,000 of a simulated mean difference being greater than the real mean difference. Considering 0 is less than any reasonable Alpha value, we have evidence to suggest that the difference between a \"low\" relative humidity and a \"high\" relative humidity is significant for UMDDLGMCNFAZDX-UHFFFAOYSA-O, with a higher relative humidity leading to better quality crystals.\n"
   ]
  },
  {
   "cell_type": "markdown",
   "metadata": {},
   "source": [
    "# SQXJHWOXNLTOOO-UHFFFAOYSA-N"
   ]
  },
  {
   "cell_type": "code",
   "execution_count": 78,
   "metadata": {},
   "outputs": [
    {
     "data": {
      "text/plain": [
       "0.0"
      ]
     },
     "execution_count": 78,
     "metadata": {},
     "output_type": "execute_result"
    }
   ],
   "source": [
    "# 3s and 4s in the lower quartile\n",
    "0/87"
   ]
  },
  {
   "cell_type": "code",
   "execution_count": 79,
   "metadata": {},
   "outputs": [
    {
     "data": {
      "text/plain": [
       "0.031914893617021274"
      ]
     },
     "execution_count": 79,
     "metadata": {},
     "output_type": "execute_result"
    }
   ],
   "source": [
    "#3s and 4s in the upper quartile\n",
    "3/94"
   ]
  },
  {
   "cell_type": "code",
   "execution_count": 81,
   "metadata": {},
   "outputs": [
    {
     "data": {
      "text/plain": [
       "-0.010859929078014184"
      ]
     },
     "execution_count": 81,
     "metadata": {},
     "output_type": "execute_result"
    }
   ],
   "source": [
    "def meanDifference(data, endOfFirstBin): \n",
    "    shuffle(data)\n",
    "    h = (data[0:endOfFirstBin])\n",
    "    i = (data[endOfFirstBin:])\n",
    "    avg = np.random.normal(h)\n",
    "    np.mean(h)\n",
    "    avg2 = np.random.normal(i)\n",
    "    np.mean(i)\n",
    "    return (np.mean(h) - np.mean(i))\n",
    "j = [0, 0, 0, 0, 0, 0, 0, 0, 0, 0, 0, 0, 0, 0, 0, 0, 0, 0, 0, 0, 0, 0, 0, 0, 0, 0, 0, 0, 0, 0, 0, 0, 0, 0, 0, 0, 0, 0, 0, 0, 0, 0, 0, 0, 0, 0, 0, 0, 0, 0, 0, 0, 0, 0, 0, 0, 0, 0, 0, 0, 0, 0, 0, 0, 0, 0, 0, 0, 0, 0, 0, 0, 0, 0, 0, 0, 0, 0, 0, 0, 0, 0, 0, 0, 0, 0, 0, 0, 0, 0, 0, 0, 0, 0, 0, 0, 1, 1, 1, 0, 0, 0, 0, 0, 0, 0, 0, 0, 0, 0, 0, 0, 0, 0, 0, 0, 0, 0, 0, 0, 0, 0, 0, 0, 0, 0, 0, 0, 0, 0, 0, 0, 0, 0, 0, 0, 0, 0, 0, 0, 0, 0, 0, 0, 0, 0, 0, 0, 0, 0, 0, 0, 0, 0, 0, 0, 0, 0, 0, 0, 0, 0, 0, 0, 0, 0, 0, 0, 0, 0, 0, 0, 0, 0, 0, 0, 0, 0, 0, 0, 0, 0, 0, 0, 0, 0, 0, 0, 0, 0]\n",
    "meanDifference(j, 96)"
   ]
  },
  {
   "cell_type": "code",
   "execution_count": 82,
   "metadata": {},
   "outputs": [
    {
     "name": "stdout",
     "output_type": "stream",
     "text": [
      "Standard Deviation of sample is 0.08774237861644507 \n"
     ]
    }
   ],
   "source": [
    "results11 = [meanDifference(b, 96) for trial in range(10000)]\n",
    "print(\"Standard Deviation of sample is % s \" \n",
    "                % (statistics.stdev(results11)))"
   ]
  },
  {
   "cell_type": "code",
   "execution_count": 86,
   "metadata": {},
   "outputs": [
    {
     "data": {
      "image/png": "[encoded data removed]",
      "text/plain": [
       "<Figure size 432x288 with 1 Axes>"
      ]
     },
     "metadata": {
      "needs_background": "light"
     },
     "output_type": "display_data"
    }
   ],
   "source": [
    "x = results11\n",
    "plt.hist(x, bins=21)\n",
    "plt.ylabel('No of times')\n",
    "plt.xlabel('mean difference')\n",
    "plt.title('# of occurences of each mean difference')\n",
    "plt.show()"
   ]
  },
  {
   "cell_type": "code",
   "execution_count": 87,
   "metadata": {},
   "outputs": [
    {
     "name": "stdout",
     "output_type": "stream",
     "text": [
      "0.031914893617021274\n"
     ]
    }
   ],
   "source": [
    "k =0.031914893617021274-0\n",
    "print(k)"
   ]
  },
  {
   "cell_type": "code",
   "execution_count": 88,
   "metadata": {},
   "outputs": [
    {
     "name": "stdout",
     "output_type": "stream",
     "text": [
      "The numbers greater than 0.031914893617021274: 3793\n"
     ]
    }
   ],
   "source": [
    "count = len([i for i in results10 if i > k])\n",
    "print (\"The numbers greater than 0.031914893617021274: \" + str(count))"
   ]
  },
  {
   "cell_type": "markdown",
   "metadata": {},
   "source": [
    "### CONCLUSION:\n",
    "There are 3793 instances out of 10,000 of a simulated mean difference being greater than the real mean difference. Considering .3793 is greater than any reasonable Alpha value, we have evidence to suggest that there is no difference between a \"low\" relative humidity and a \"high\" relative humidity for SQXJHWOXNLTOOO-UHFFFAOYSA-N, with no definitive relative humidity leading to better quality crystals."
   ]
  }
 ],
 "metadata": {
  "kernelspec": {
   "display_name": "Python 3",
   "language": "python",
   "name": "python3"
  },
  "language_info": {
   "codemirror_mode": {
    "name": "ipython",
    "version": 3
   },
   "file_extension": ".py",
   "mimetype": "text/x-python",
   "name": "python",
   "nbconvert_exporter": "python",
   "pygments_lexer": "ipython3",
   "version": "3.8.6rc1"
  }
 },
 "nbformat": 4,
 "nbformat_minor": 2
}
